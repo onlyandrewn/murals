{
 "cells": [
  {
   "cell_type": "markdown",
   "id": "1231df21",
   "metadata": {},
   "source": [
    "# Beautifying neighborhoods in St. Louis"
   ]
  },
  {
   "cell_type": "code",
   "execution_count": 1,
   "id": "dd0daad7",
   "metadata": {},
   "outputs": [
    {
     "name": "stderr",
     "output_type": "stream",
     "text": [
      "/Users/onlyandrewn/.pyenv/versions/3.10.3/lib/python3.10/site-packages/requests/__init__.py:109: RequestsDependencyWarning: urllib3 (1.26.9) or chardet (5.0.0)/charset_normalizer (2.0.12) doesn't match a supported version!\n",
      "  warnings.warn(\n"
     ]
    }
   ],
   "source": [
    "import requests\n",
    "from bs4 import BeautifulSoup\n",
    "import pandas as pd"
   ]
  },
  {
   "cell_type": "markdown",
   "id": "282838a4",
   "metadata": {},
   "source": [
    "## Murals"
   ]
  },
  {
   "cell_type": "code",
   "execution_count": 2,
   "id": "0333cf3b",
   "metadata": {},
   "outputs": [],
   "source": [
    "# Num of murals in three key neighborhoods\n",
    "# NICE TO HAVE - Num of murals in neighborhoods adjacent to three key neighborhoods\n",
    "\n",
    "murals = [\n",
    "    {\"neighborhood_name\": \"Old North St. Louis\", \"num_murals\": \"??\"},\n",
    "    {\"neighborhood_name\": \"Forest Park South East\", \"num_murals\": \"??\"},\n",
    "    {\"neighborhood_name\": \"Covenant Blu-Grand Center \", \"num_murals\": \"??\"}\n",
    "]"
   ]
  },
  {
   "cell_type": "code",
   "execution_count": 3,
   "id": "83cbaf6f",
   "metadata": {},
   "outputs": [
    {
     "data": {
      "text/html": [
       "<div>\n",
       "<style scoped>\n",
       "    .dataframe tbody tr th:only-of-type {\n",
       "        vertical-align: middle;\n",
       "    }\n",
       "\n",
       "    .dataframe tbody tr th {\n",
       "        vertical-align: top;\n",
       "    }\n",
       "\n",
       "    .dataframe thead th {\n",
       "        text-align: right;\n",
       "    }\n",
       "</style>\n",
       "<table border=\"1\" class=\"dataframe\">\n",
       "  <thead>\n",
       "    <tr style=\"text-align: right;\">\n",
       "      <th></th>\n",
       "      <th>neighborhood_name</th>\n",
       "      <th>num_murals</th>\n",
       "    </tr>\n",
       "  </thead>\n",
       "  <tbody>\n",
       "    <tr>\n",
       "      <th>0</th>\n",
       "      <td>Old North St. Louis</td>\n",
       "      <td>1</td>\n",
       "    </tr>\n",
       "    <tr>\n",
       "      <th>1</th>\n",
       "      <td>Forest Park South East</td>\n",
       "      <td>2</td>\n",
       "    </tr>\n",
       "    <tr>\n",
       "      <th>2</th>\n",
       "      <td>Covenant Blu-Grand Center</td>\n",
       "      <td>3</td>\n",
       "    </tr>\n",
       "  </tbody>\n",
       "</table>\n",
       "</div>"
      ],
      "text/plain": [
       "            neighborhood_name  num_murals\n",
       "0         Old North St. Louis           1\n",
       "1      Forest Park South East           2\n",
       "2  Covenant Blu-Grand Center            3"
      ]
     },
     "execution_count": 3,
     "metadata": {},
     "output_type": "execute_result"
    }
   ],
   "source": [
    "df = pd.DataFrame(murals)\n",
    "df"
   ]
  },
  {
   "cell_type": "code",
   "execution_count": 4,
   "id": "f34d6934",
   "metadata": {},
   "outputs": [],
   "source": [
    "df.to_csv(\"murals.csv\", index=False)"
   ]
  },
  {
   "cell_type": "markdown",
   "id": "a99a3805",
   "metadata": {},
   "source": [
    "## Demographics"
   ]
  },
  {
   "cell_type": "code",
   "execution_count": 5,
   "id": "628d8676",
   "metadata": {},
   "outputs": [],
   "source": [
    "# !pip install selenium\n",
    "# !pip install webdriver-manager"
   ]
  },
  {
   "cell_type": "code",
   "execution_count": 6,
   "id": "7df1d198",
   "metadata": {},
   "outputs": [],
   "source": [
    "from selenium import webdriver\n",
    "from selenium.webdriver.common.by import By\n",
    "from webdriver_manager.chrome import ChromeDriverManager"
   ]
  },
  {
   "cell_type": "code",
   "execution_count": 7,
   "id": "a1b35777",
   "metadata": {},
   "outputs": [
    {
     "name": "stdout",
     "output_type": "stream",
     "text": [
      "\n"
     ]
    },
    {
     "name": "stderr",
     "output_type": "stream",
     "text": [
      "/var/folders/n9/d59lbjm54zq90fxhmx7qktmc0000gn/T/ipykernel_24288/1503906442.py:1: DeprecationWarning: executable_path has been deprecated, please pass in a Service object\n",
      "  driver = webdriver.Chrome(ChromeDriverManager().install())\n"
     ]
    }
   ],
   "source": [
    "driver = webdriver.Chrome(ChromeDriverManager().install())"
   ]
  },
  {
   "cell_type": "code",
   "execution_count": 8,
   "id": "e8cccf17",
   "metadata": {},
   "outputs": [],
   "source": [
    "driver.get(\"https://www.stlouis-mo.gov/government/departments/planning/research/census/data/neighborhoods/index.cfm?censusYear=2020&comparisonYear=0&measure=P0010001\")"
   ]
  },
  {
   "cell_type": "code",
   "execution_count": 9,
   "id": "246d10d1",
   "metadata": {},
   "outputs": [],
   "source": [
    "driver.find_element(By.XPATH, '//*[@id=\"DataTables_Table_0\"]/tbody/tr[19]/td[1]/a').click()"
   ]
  },
  {
   "cell_type": "code",
   "execution_count": 10,
   "id": "daf6ccf0",
   "metadata": {},
   "outputs": [
    {
     "data": {
      "text/html": [
       "<div>\n",
       "<style scoped>\n",
       "    .dataframe tbody tr th:only-of-type {\n",
       "        vertical-align: middle;\n",
       "    }\n",
       "\n",
       "    .dataframe tbody tr th {\n",
       "        vertical-align: top;\n",
       "    }\n",
       "\n",
       "    .dataframe thead th {\n",
       "        text-align: right;\n",
       "    }\n",
       "</style>\n",
       "<table border=\"1\" class=\"dataframe\">\n",
       "  <thead>\n",
       "    <tr style=\"text-align: right;\">\n",
       "      <th></th>\n",
       "      <th>Unnamed: 0</th>\n",
       "      <th>2020</th>\n",
       "    </tr>\n",
       "  </thead>\n",
       "  <tbody>\n",
       "    <tr>\n",
       "      <th>0</th>\n",
       "      <td>Total Population</td>\n",
       "      <td>3041</td>\n",
       "    </tr>\n",
       "    <tr>\n",
       "      <th>1</th>\n",
       "      <td>White alone</td>\n",
       "      <td>945</td>\n",
       "    </tr>\n",
       "    <tr>\n",
       "      <th>2</th>\n",
       "      <td>Black or African-American alone</td>\n",
       "      <td>1614</td>\n",
       "    </tr>\n",
       "    <tr>\n",
       "      <th>3</th>\n",
       "      <td>Asian-American alone</td>\n",
       "      <td>264</td>\n",
       "    </tr>\n",
       "    <tr>\n",
       "      <th>4</th>\n",
       "      <td>American Indian and Alaska Native alone</td>\n",
       "      <td>4</td>\n",
       "    </tr>\n",
       "    <tr>\n",
       "      <th>5</th>\n",
       "      <td>Native Hawaiian or Other Pacific Islander alone</td>\n",
       "      <td>2</td>\n",
       "    </tr>\n",
       "    <tr>\n",
       "      <th>6</th>\n",
       "      <td>Some Other Race alone</td>\n",
       "      <td>78</td>\n",
       "    </tr>\n",
       "    <tr>\n",
       "      <th>7</th>\n",
       "      <td>Two or More Races</td>\n",
       "      <td>134</td>\n",
       "    </tr>\n",
       "  </tbody>\n",
       "</table>\n",
       "</div>"
      ],
      "text/plain": [
       "                                        Unnamed: 0  2020\n",
       "0                                 Total Population  3041\n",
       "1                                      White alone   945\n",
       "2                  Black or African-American alone  1614\n",
       "3                             Asian-American alone   264\n",
       "4          American Indian and Alaska Native alone     4\n",
       "5  Native Hawaiian or Other Pacific Islander alone     2\n",
       "6                            Some Other Race alone    78\n",
       "7                                Two or More Races   134"
      ]
     },
     "execution_count": 10,
     "metadata": {},
     "output_type": "execute_result"
    }
   ],
   "source": [
    "pd.read_html(driver.page_source, flavor=\"html5lib\")[0]"
   ]
  },
  {
   "cell_type": "code",
   "execution_count": 55,
   "id": "bcff9d53",
   "metadata": {},
   "outputs": [
    {
     "name": "stdout",
     "output_type": "stream",
     "text": [
      "Searching for 77\n",
      "Searching for 63\n",
      "Searching for 39\n",
      "[{'id': 77, 'group': 'Total Population', 'pop_2020': '3,041'}, {'id': 77, 'group': 'White alone', 'pop_2020': '945'}, {'id': 77, 'group': 'Black or African-American alone', 'pop_2020': '1,614'}, {'id': 77, 'group': 'Asian-American alone', 'pop_2020': '264'}, {'id': 77, 'group': 'American Indian and Alaska Native alone', 'pop_2020': '4'}, {'id': 77, 'group': 'Native Hawaiian or Other Pacific Islander alone', 'pop_2020': '2'}, {'id': 77, 'group': 'Some Other Race alone', 'pop_2020': '78'}, {'id': 77, 'group': 'Two or More Races', 'pop_2020': '134'}, {'id': 63, 'group': 'Total Population', 'pop_2020': '1,488'}, {'id': 63, 'group': 'White alone', 'pop_2020': '190'}, {'id': 63, 'group': 'Black or African-American alone', 'pop_2020': '1,227'}, {'id': 63, 'group': 'Asian-American alone', 'pop_2020': '1'}, {'id': 63, 'group': 'American Indian and Alaska Native alone', 'pop_2020': '1'}, {'id': 63, 'group': 'Native Hawaiian or Other Pacific Islander alone', 'pop_2020': '0'}, {'id': 63, 'group': 'Some Other Race alone', 'pop_2020': '5'}, {'id': 63, 'group': 'Two or More Races', 'pop_2020': '64'}, {'id': 39, 'group': 'Total Population', 'pop_2020': '3,458'}, {'id': 39, 'group': 'White alone', 'pop_2020': '1,598'}, {'id': 39, 'group': 'Black or African-American alone', 'pop_2020': '1,249'}, {'id': 39, 'group': 'Asian-American alone', 'pop_2020': '241'}, {'id': 39, 'group': 'American Indian and Alaska Native alone', 'pop_2020': '5'}, {'id': 39, 'group': 'Native Hawaiian or Other Pacific Islander alone', 'pop_2020': '2'}, {'id': 39, 'group': 'Some Other Race alone', 'pop_2020': '110'}, {'id': 39, 'group': 'Two or More Races', 'pop_2020': '253'}]\n"
     ]
    }
   ],
   "source": [
    "# Blu Grand Center = 77\n",
    "# Old North St. Louis = 63\n",
    "# Forest Park South East = 39\n",
    "\n",
    "ids = [77, 63, 39]\n",
    "neighborhoods = []\n",
    "\n",
    "for id in ids:\n",
    "    print(\"Searching for\", id)\n",
    "    response = requests.get(f\"https://www.stlouis-mo.gov/government/departments/planning/research/census/data/neighborhoods/neighborhood.cfm?number={id}&censusYear=2020&comparisonYear=0\")\n",
    "    doc = BeautifulSoup(response.text)\n",
    "\n",
    "    for row in doc.find(id=\"data1View\").find(\"tbody\"):\n",
    "        if row.find(\"th\") != -1:\n",
    "            group = row.find(\"th\").text\n",
    "\n",
    "        if row.find(\"td\") != -1:\n",
    "            pop_2020 = row.find(\"td\").text.strip()\n",
    "\n",
    "            neighborhood = {\n",
    "                \"id\": id,\n",
    "                \"group\": group,\n",
    "                \"pop_2020\": pop_2020\n",
    "            }\n",
    "\n",
    "            neighborhoods.append(neighborhood)\n",
    "        \n",
    "print(neighborhoods)"
   ]
  },
  {
   "cell_type": "code",
   "execution_count": 56,
   "id": "75b7556b",
   "metadata": {},
   "outputs": [],
   "source": [
    "df = pd.DataFrame(neighborhoods)\n",
    "df.to_csv(\"neighborhood_demo.csv\", index=False)"
   ]
  },
  {
   "cell_type": "code",
   "execution_count": 66,
   "id": "f524b889",
   "metadata": {},
   "outputs": [
    {
     "data": {
      "text/html": [
       "<div>\n",
       "<style scoped>\n",
       "    .dataframe tbody tr th:only-of-type {\n",
       "        vertical-align: middle;\n",
       "    }\n",
       "\n",
       "    .dataframe tbody tr th {\n",
       "        vertical-align: top;\n",
       "    }\n",
       "\n",
       "    .dataframe thead th {\n",
       "        text-align: right;\n",
       "    }\n",
       "</style>\n",
       "<table border=\"1\" class=\"dataframe\">\n",
       "  <thead>\n",
       "    <tr style=\"text-align: right;\">\n",
       "      <th></th>\n",
       "      <th>id</th>\n",
       "      <th>group</th>\n",
       "      <th>pop_2020</th>\n",
       "    </tr>\n",
       "  </thead>\n",
       "  <tbody>\n",
       "    <tr>\n",
       "      <th>0</th>\n",
       "      <td>77</td>\n",
       "      <td>Total Population</td>\n",
       "      <td>3,041</td>\n",
       "    </tr>\n",
       "    <tr>\n",
       "      <th>1</th>\n",
       "      <td>77</td>\n",
       "      <td>White alone</td>\n",
       "      <td>945</td>\n",
       "    </tr>\n",
       "    <tr>\n",
       "      <th>2</th>\n",
       "      <td>77</td>\n",
       "      <td>Black or African-American alone</td>\n",
       "      <td>1,614</td>\n",
       "    </tr>\n",
       "    <tr>\n",
       "      <th>3</th>\n",
       "      <td>77</td>\n",
       "      <td>Asian-American alone</td>\n",
       "      <td>264</td>\n",
       "    </tr>\n",
       "    <tr>\n",
       "      <th>4</th>\n",
       "      <td>77</td>\n",
       "      <td>American Indian and Alaska Native alone</td>\n",
       "      <td>4</td>\n",
       "    </tr>\n",
       "    <tr>\n",
       "      <th>5</th>\n",
       "      <td>77</td>\n",
       "      <td>Native Hawaiian or Other Pacific Islander alone</td>\n",
       "      <td>2</td>\n",
       "    </tr>\n",
       "    <tr>\n",
       "      <th>6</th>\n",
       "      <td>77</td>\n",
       "      <td>Some Other Race alone</td>\n",
       "      <td>78</td>\n",
       "    </tr>\n",
       "    <tr>\n",
       "      <th>7</th>\n",
       "      <td>77</td>\n",
       "      <td>Two or More Races</td>\n",
       "      <td>134</td>\n",
       "    </tr>\n",
       "    <tr>\n",
       "      <th>8</th>\n",
       "      <td>63</td>\n",
       "      <td>Total Population</td>\n",
       "      <td>1,488</td>\n",
       "    </tr>\n",
       "    <tr>\n",
       "      <th>9</th>\n",
       "      <td>63</td>\n",
       "      <td>White alone</td>\n",
       "      <td>190</td>\n",
       "    </tr>\n",
       "    <tr>\n",
       "      <th>10</th>\n",
       "      <td>63</td>\n",
       "      <td>Black or African-American alone</td>\n",
       "      <td>1,227</td>\n",
       "    </tr>\n",
       "    <tr>\n",
       "      <th>11</th>\n",
       "      <td>63</td>\n",
       "      <td>Asian-American alone</td>\n",
       "      <td>1</td>\n",
       "    </tr>\n",
       "    <tr>\n",
       "      <th>12</th>\n",
       "      <td>63</td>\n",
       "      <td>American Indian and Alaska Native alone</td>\n",
       "      <td>1</td>\n",
       "    </tr>\n",
       "    <tr>\n",
       "      <th>13</th>\n",
       "      <td>63</td>\n",
       "      <td>Native Hawaiian or Other Pacific Islander alone</td>\n",
       "      <td>0</td>\n",
       "    </tr>\n",
       "    <tr>\n",
       "      <th>14</th>\n",
       "      <td>63</td>\n",
       "      <td>Some Other Race alone</td>\n",
       "      <td>5</td>\n",
       "    </tr>\n",
       "    <tr>\n",
       "      <th>15</th>\n",
       "      <td>63</td>\n",
       "      <td>Two or More Races</td>\n",
       "      <td>64</td>\n",
       "    </tr>\n",
       "    <tr>\n",
       "      <th>16</th>\n",
       "      <td>39</td>\n",
       "      <td>Total Population</td>\n",
       "      <td>3,458</td>\n",
       "    </tr>\n",
       "    <tr>\n",
       "      <th>17</th>\n",
       "      <td>39</td>\n",
       "      <td>White alone</td>\n",
       "      <td>1,598</td>\n",
       "    </tr>\n",
       "    <tr>\n",
       "      <th>18</th>\n",
       "      <td>39</td>\n",
       "      <td>Black or African-American alone</td>\n",
       "      <td>1,249</td>\n",
       "    </tr>\n",
       "    <tr>\n",
       "      <th>19</th>\n",
       "      <td>39</td>\n",
       "      <td>Asian-American alone</td>\n",
       "      <td>241</td>\n",
       "    </tr>\n",
       "    <tr>\n",
       "      <th>20</th>\n",
       "      <td>39</td>\n",
       "      <td>American Indian and Alaska Native alone</td>\n",
       "      <td>5</td>\n",
       "    </tr>\n",
       "    <tr>\n",
       "      <th>21</th>\n",
       "      <td>39</td>\n",
       "      <td>Native Hawaiian or Other Pacific Islander alone</td>\n",
       "      <td>2</td>\n",
       "    </tr>\n",
       "    <tr>\n",
       "      <th>22</th>\n",
       "      <td>39</td>\n",
       "      <td>Some Other Race alone</td>\n",
       "      <td>110</td>\n",
       "    </tr>\n",
       "    <tr>\n",
       "      <th>23</th>\n",
       "      <td>39</td>\n",
       "      <td>Two or More Races</td>\n",
       "      <td>253</td>\n",
       "    </tr>\n",
       "  </tbody>\n",
       "</table>\n",
       "</div>"
      ],
      "text/plain": [
       "    id                                            group pop_2020\n",
       "0   77                                 Total Population    3,041\n",
       "1   77                                      White alone      945\n",
       "2   77                  Black or African-American alone    1,614\n",
       "3   77                             Asian-American alone      264\n",
       "4   77          American Indian and Alaska Native alone        4\n",
       "5   77  Native Hawaiian or Other Pacific Islander alone        2\n",
       "6   77                            Some Other Race alone       78\n",
       "7   77                                Two or More Races      134\n",
       "8   63                                 Total Population    1,488\n",
       "9   63                                      White alone      190\n",
       "10  63                  Black or African-American alone    1,227\n",
       "11  63                             Asian-American alone        1\n",
       "12  63          American Indian and Alaska Native alone        1\n",
       "13  63  Native Hawaiian or Other Pacific Islander alone        0\n",
       "14  63                            Some Other Race alone        5\n",
       "15  63                                Two or More Races       64\n",
       "16  39                                 Total Population    3,458\n",
       "17  39                                      White alone    1,598\n",
       "18  39                  Black or African-American alone    1,249\n",
       "19  39                             Asian-American alone      241\n",
       "20  39          American Indian and Alaska Native alone        5\n",
       "21  39  Native Hawaiian or Other Pacific Islander alone        2\n",
       "22  39                            Some Other Race alone      110\n",
       "23  39                                Two or More Races      253"
      ]
     },
     "execution_count": 66,
     "metadata": {},
     "output_type": "execute_result"
    }
   ],
   "source": [
    "df"
   ]
  },
  {
   "cell_type": "code",
   "execution_count": null,
   "id": "eaba1fe5",
   "metadata": {},
   "outputs": [],
   "source": [
    "# TODO \n",
    "# - NEED TO TRANSPOSE THE TABLE TO ACTUALLY DO THESE CALCS\n",
    "\n",
    "# # Blu Grand Center = 77\n",
    "# (945 / 3041) * 100 # white_pop, 31%\n",
    "# (1614 / 3041) * 100 # black_pop, 53%\n",
    "\n",
    "# # Old North St. Louis = 63\n",
    "# Total Population\t1,488\n",
    "# White alone\t190\n",
    "# Black or African-American alone\t1,227\n",
    "\n",
    "# (190 / 1488) * 100 # white_pop, 12%\n",
    "# (1227 / 1488) * 100 # black_pop 82%\n",
    "\n",
    "# # Forest Park South East = 39\n",
    "# 39\tTotal Population\t3,458\n",
    "# 17\t39\tWhite alone\t1,598\n",
    "# 18\t39\tBlack or African-American alone\t1,249\n",
    "\n",
    "# (1598 / 3458) * 100 # white_pop, 46%\n",
    "# (1249 / 3458) * 100 # black_pop, 36%"
   ]
  },
  {
   "cell_type": "markdown",
   "id": "3a7b8888",
   "metadata": {},
   "source": [
    "## Population by neighborhood"
   ]
  },
  {
   "cell_type": "code",
   "execution_count": 13,
   "id": "0fad9061",
   "metadata": {},
   "outputs": [
    {
     "name": "stdout",
     "output_type": "stream",
     "text": [
      "['Franz Park\\n2,260\\n100.0%\\n0.7%', 'Tiffany\\n915\\n100.0%\\n0.3%', 'Botanical Heights\\n1,196\\n100.0%\\n0.4%', 'Kings Oak\\n167\\n100.0%\\n0.1%', 'Cheltenham\\n1,260\\n100.0%\\n0.4%', 'Clayton-Tamm\\n2,348\\n100.0%\\n0.8%', 'Forest Park South East\\n3,458\\n100.0%\\n1.1%', 'Hi-Pointe\\n2,151\\n100.0%\\n0.7%', 'Midtown\\n6,862\\n100.0%\\n2.3%', 'Jeff Vanderlou\\n4,209\\n100.0%\\n1.4%', 'Wydown Skinker\\n1,121\\n100.0%\\n0.4%', 'Covenant Blu-Grand Center\\n3,041\\n100.0%\\n1.0%', 'Central West End\\n16,670\\n100.0%\\n5.5%', 'Vandeventer\\n2,041\\n100.0%\\n0.7%', 'Visitation Park\\n924\\n100.0%\\n0.3%', 'Lewis Place\\n1,359\\n100.0%\\n0.5%', 'Fountain Park\\n1,075\\n100.0%\\n0.4%', 'The Ville\\n1,427\\n100.0%\\n0.5%', 'Academy\\n2,355\\n100.0%\\n0.8%', 'Fairground Park\\n12\\n100.0%\\n0.0%', 'West End\\n6,846\\n100.0%\\n2.3%', 'Greater Ville\\n4,545\\n100.0%\\n1.5%', 'Fairground Neighborhood\\n1,157\\n100.0%\\n0.4%', 'Hamilton Heights\\n2,187\\n100.0%\\n0.7%', 'Kingsway East\\n2,502\\n100.0%\\n0.8%', 'Kingsway West\\n2,604\\n100.0%\\n0.9%', 'Patch\\n2,842\\n100.0%\\n0.9%', 'Carondelet Park\\n15\\n100.0%\\n0.0%', 'Carondelet\\n7,734\\n100.0%\\n2.6%', 'Holly Hills\\n3,647\\n100.0%\\n1.2%', 'Boulevard Heights\\n8,690\\n100.0%\\n2.9%', 'Mount Pleasant\\n4,376\\n100.0%\\n1.5%', 'Princeton Heights\\n7,364\\n100.0%\\n2.4%', 'St. Louis Hills\\n7,516\\n100.0%\\n2.5%', 'Willmore Park\\n1\\n100.0%\\n0.0%', 'Dutchtown\\n15,356\\n100.0%\\n5.1%', 'Bevo Mill\\n11,941\\n100.0%\\n4.0%', 'Southampton\\n6,647\\n100.0%\\n2.2%', 'Marine Villa\\n2,530\\n100.0%\\n0.8%', 'Gravois Park\\n4,683\\n100.0%\\n1.6%', 'North Hampton\\n7,489\\n100.0%\\n2.5%', 'Benton Park West\\n4,238\\n100.0%\\n1.4%', 'Tower Grove South\\n12,719\\n100.0%\\n4.2%', 'Lindenwood Park\\n9,387\\n100.0%\\n3.1%', 'Benton Park\\n3,581\\n100.0%\\n1.2%', 'Tower Grove Park\\n7\\n100.0%\\n0.0%', 'Tower Grove East\\n5,708\\n100.0%\\n1.9%', 'McKinley Heights\\n1,668\\n100.0%\\n0.6%', 'Soulard\\n3,831\\n100.0%\\n1.3%', 'Fox Park\\n2,545\\n100.0%\\n0.8%', 'Compton Heights\\n1,396\\n100.0%\\n0.5%', 'Kosciusko\\n52\\n100.0%\\n0.0%', 'Shaw\\n6,919\\n100.0%\\n2.3%', 'Southwest Garden\\n5,245\\n100.0%\\n1.7%', 'Clifton Heights\\n2,836\\n100.0%\\n0.9%', 'LaSalle Park\\n1,088\\n100.0%\\n0.4%', 'Peabody Darst Webbe\\n2,443\\n100.0%\\n0.8%', 'Lafayette Square\\n2,164\\n100.0%\\n0.7%', 'Ellendale\\n1,385\\n100.0%\\n0.5%', 'The Hill\\n2,487\\n100.0%\\n0.8%', 'The Gate District\\n3,419\\n100.0%\\n1.1%', 'College Hill\\n1,243\\n100.0%\\n0.4%', \"O'Fallon\\n4,342\\n100.0%\\n1.4%\", \"O'Fallon Park\\n0\", 'Penrose\\n5,243\\n100.0%\\n1.7%', 'Wells Goodfellow\\n4,473\\n100.0%\\n1.5%', 'Mark Twain\\n3,257\\n100.0%\\n1.1%', 'Mark Twain I-70 Industrial\\n902\\n100.0%\\n0.3%', 'Walnut Park East\\n2,757\\n100.0%\\n0.9%', 'Walnut Park West\\n2,561\\n100.0%\\n0.8%', 'North Pointe\\n3,396\\n100.0%\\n1.1%', 'North Riverfront\\n154\\n100.0%\\n0.1%', 'Baden\\n5,465\\n100.0%\\n1.8%', 'Riverview\\n242\\n100.0%\\n0.1%', 'Forest Park\\n50\\n100.0%\\n0.0%', 'DeBaliviere Place\\n3,651\\n100.0%\\n1.2%', 'Skinker DeBaliviere\\n3,899\\n100.0%\\n1.3%', 'Downtown\\n5,442\\n100.0%\\n1.8%', 'Near North Riverfront\\n395\\n100.0%\\n0.1%', 'Columbus Square\\n1,978\\n100.0%\\n0.7%', 'Old North St. Louis\\n1,488\\n100.0%\\n0.5%', 'Carr Square\\n2,236\\n100.0%\\n0.7%', 'Hyde Park\\n2,271\\n100.0%\\n0.8%', 'St. Louis Place\\n2,336\\n100.0%\\n0.8%', 'Downtown West\\n5,115\\n100.0%\\n1.7%', 'Missouri Botanical Garden\\n3\\n100.0%\\n0.0%', 'Penrose Park\\n22\\n100.0%\\n0.0%', 'Bellefontaine/Calvary Cemetery\\n0', 'Unallocated - Awaiting CQR\\n16\\n100.0%\\n0.0%']\n"
     ]
    }
   ],
   "source": [
    "response = requests.get(\"https://www.stlouis-mo.gov/government/departments/planning/research/census/data/neighborhoods/index.cfm?censusYear=2020&comparisonYear=0&measure=P0010001\")\n",
    "doc = BeautifulSoup(response.text)\n",
    "\n",
    "table = doc.find(\"tbody\").find_all(\"tr\")\n",
    "\n",
    "rows = []\n",
    "\n",
    "for row in table:\n",
    "    info = row.text.strip() \\\n",
    "        .replace(\"\\n\\n\\n\", \"\\n\") \\\n",
    "        .replace(\"\\n\\n\", \"\\n\")\n",
    "    \n",
    "    rows.append(info)\n",
    "    \n",
    "print(rows)"
   ]
  },
  {
   "cell_type": "code",
   "execution_count": 14,
   "id": "e90b06e7",
   "metadata": {},
   "outputs": [
    {
     "data": {
      "text/html": [
       "<div>\n",
       "<style scoped>\n",
       "    .dataframe tbody tr th:only-of-type {\n",
       "        vertical-align: middle;\n",
       "    }\n",
       "\n",
       "    .dataframe tbody tr th {\n",
       "        vertical-align: top;\n",
       "    }\n",
       "\n",
       "    .dataframe thead th {\n",
       "        text-align: right;\n",
       "    }\n",
       "</style>\n",
       "<table border=\"1\" class=\"dataframe\">\n",
       "  <thead>\n",
       "    <tr style=\"text-align: right;\">\n",
       "      <th></th>\n",
       "      <th>0</th>\n",
       "    </tr>\n",
       "  </thead>\n",
       "  <tbody>\n",
       "    <tr>\n",
       "      <th>0</th>\n",
       "      <td>Franz Park\\n2,260\\n100.0%\\n0.7%</td>\n",
       "    </tr>\n",
       "    <tr>\n",
       "      <th>1</th>\n",
       "      <td>Tiffany\\n915\\n100.0%\\n0.3%</td>\n",
       "    </tr>\n",
       "    <tr>\n",
       "      <th>2</th>\n",
       "      <td>Botanical Heights\\n1,196\\n100.0%\\n0.4%</td>\n",
       "    </tr>\n",
       "    <tr>\n",
       "      <th>3</th>\n",
       "      <td>Kings Oak\\n167\\n100.0%\\n0.1%</td>\n",
       "    </tr>\n",
       "    <tr>\n",
       "      <th>4</th>\n",
       "      <td>Cheltenham\\n1,260\\n100.0%\\n0.4%</td>\n",
       "    </tr>\n",
       "    <tr>\n",
       "      <th>...</th>\n",
       "      <td>...</td>\n",
       "    </tr>\n",
       "    <tr>\n",
       "      <th>84</th>\n",
       "      <td>Downtown West\\n5,115\\n100.0%\\n1.7%</td>\n",
       "    </tr>\n",
       "    <tr>\n",
       "      <th>85</th>\n",
       "      <td>Missouri Botanical Garden\\n3\\n100.0%\\n0.0%</td>\n",
       "    </tr>\n",
       "    <tr>\n",
       "      <th>86</th>\n",
       "      <td>Penrose Park\\n22\\n100.0%\\n0.0%</td>\n",
       "    </tr>\n",
       "    <tr>\n",
       "      <th>87</th>\n",
       "      <td>Bellefontaine/Calvary Cemetery\\n0</td>\n",
       "    </tr>\n",
       "    <tr>\n",
       "      <th>88</th>\n",
       "      <td>Unallocated - Awaiting CQR\\n16\\n100.0%\\n0.0%</td>\n",
       "    </tr>\n",
       "  </tbody>\n",
       "</table>\n",
       "<p>89 rows × 1 columns</p>\n",
       "</div>"
      ],
      "text/plain": [
       "                                               0\n",
       "0                Franz Park\\n2,260\\n100.0%\\n0.7%\n",
       "1                     Tiffany\\n915\\n100.0%\\n0.3%\n",
       "2         Botanical Heights\\n1,196\\n100.0%\\n0.4%\n",
       "3                   Kings Oak\\n167\\n100.0%\\n0.1%\n",
       "4                Cheltenham\\n1,260\\n100.0%\\n0.4%\n",
       "..                                           ...\n",
       "84            Downtown West\\n5,115\\n100.0%\\n1.7%\n",
       "85    Missouri Botanical Garden\\n3\\n100.0%\\n0.0%\n",
       "86                Penrose Park\\n22\\n100.0%\\n0.0%\n",
       "87             Bellefontaine/Calvary Cemetery\\n0\n",
       "88  Unallocated - Awaiting CQR\\n16\\n100.0%\\n0.0%\n",
       "\n",
       "[89 rows x 1 columns]"
      ]
     },
     "execution_count": 14,
     "metadata": {},
     "output_type": "execute_result"
    }
   ],
   "source": [
    "df = pd.DataFrame(rows)\n",
    "df"
   ]
  },
  {
   "cell_type": "code",
   "execution_count": 15,
   "id": "1720cdf8",
   "metadata": {},
   "outputs": [],
   "source": [
    "df = df[0].str.split(\"\\n\", expand=True)"
   ]
  },
  {
   "cell_type": "code",
   "execution_count": 16,
   "id": "bb408e03",
   "metadata": {},
   "outputs": [
    {
     "data": {
      "text/html": [
       "<div>\n",
       "<style scoped>\n",
       "    .dataframe tbody tr th:only-of-type {\n",
       "        vertical-align: middle;\n",
       "    }\n",
       "\n",
       "    .dataframe tbody tr th {\n",
       "        vertical-align: top;\n",
       "    }\n",
       "\n",
       "    .dataframe thead th {\n",
       "        text-align: right;\n",
       "    }\n",
       "</style>\n",
       "<table border=\"1\" class=\"dataframe\">\n",
       "  <thead>\n",
       "    <tr style=\"text-align: right;\">\n",
       "      <th></th>\n",
       "      <th>0</th>\n",
       "      <th>1</th>\n",
       "      <th>2</th>\n",
       "      <th>3</th>\n",
       "    </tr>\n",
       "  </thead>\n",
       "  <tbody>\n",
       "    <tr>\n",
       "      <th>0</th>\n",
       "      <td>Franz Park</td>\n",
       "      <td>2,260</td>\n",
       "      <td>100.0%</td>\n",
       "      <td>0.7%</td>\n",
       "    </tr>\n",
       "    <tr>\n",
       "      <th>1</th>\n",
       "      <td>Tiffany</td>\n",
       "      <td>915</td>\n",
       "      <td>100.0%</td>\n",
       "      <td>0.3%</td>\n",
       "    </tr>\n",
       "    <tr>\n",
       "      <th>2</th>\n",
       "      <td>Botanical Heights</td>\n",
       "      <td>1,196</td>\n",
       "      <td>100.0%</td>\n",
       "      <td>0.4%</td>\n",
       "    </tr>\n",
       "    <tr>\n",
       "      <th>3</th>\n",
       "      <td>Kings Oak</td>\n",
       "      <td>167</td>\n",
       "      <td>100.0%</td>\n",
       "      <td>0.1%</td>\n",
       "    </tr>\n",
       "    <tr>\n",
       "      <th>4</th>\n",
       "      <td>Cheltenham</td>\n",
       "      <td>1,260</td>\n",
       "      <td>100.0%</td>\n",
       "      <td>0.4%</td>\n",
       "    </tr>\n",
       "    <tr>\n",
       "      <th>...</th>\n",
       "      <td>...</td>\n",
       "      <td>...</td>\n",
       "      <td>...</td>\n",
       "      <td>...</td>\n",
       "    </tr>\n",
       "    <tr>\n",
       "      <th>84</th>\n",
       "      <td>Downtown West</td>\n",
       "      <td>5,115</td>\n",
       "      <td>100.0%</td>\n",
       "      <td>1.7%</td>\n",
       "    </tr>\n",
       "    <tr>\n",
       "      <th>85</th>\n",
       "      <td>Missouri Botanical Garden</td>\n",
       "      <td>3</td>\n",
       "      <td>100.0%</td>\n",
       "      <td>0.0%</td>\n",
       "    </tr>\n",
       "    <tr>\n",
       "      <th>86</th>\n",
       "      <td>Penrose Park</td>\n",
       "      <td>22</td>\n",
       "      <td>100.0%</td>\n",
       "      <td>0.0%</td>\n",
       "    </tr>\n",
       "    <tr>\n",
       "      <th>87</th>\n",
       "      <td>Bellefontaine/Calvary Cemetery</td>\n",
       "      <td>0</td>\n",
       "      <td>None</td>\n",
       "      <td>None</td>\n",
       "    </tr>\n",
       "    <tr>\n",
       "      <th>88</th>\n",
       "      <td>Unallocated - Awaiting CQR</td>\n",
       "      <td>16</td>\n",
       "      <td>100.0%</td>\n",
       "      <td>0.0%</td>\n",
       "    </tr>\n",
       "  </tbody>\n",
       "</table>\n",
       "<p>89 rows × 4 columns</p>\n",
       "</div>"
      ],
      "text/plain": [
       "                                 0      1       2     3\n",
       "0                       Franz Park  2,260  100.0%  0.7%\n",
       "1                          Tiffany    915  100.0%  0.3%\n",
       "2                Botanical Heights  1,196  100.0%  0.4%\n",
       "3                        Kings Oak    167  100.0%  0.1%\n",
       "4                       Cheltenham  1,260  100.0%  0.4%\n",
       "..                             ...    ...     ...   ...\n",
       "84                   Downtown West  5,115  100.0%  1.7%\n",
       "85       Missouri Botanical Garden      3  100.0%  0.0%\n",
       "86                    Penrose Park     22  100.0%  0.0%\n",
       "87  Bellefontaine/Calvary Cemetery      0    None  None\n",
       "88      Unallocated - Awaiting CQR     16  100.0%  0.0%\n",
       "\n",
       "[89 rows x 4 columns]"
      ]
     },
     "execution_count": 16,
     "metadata": {},
     "output_type": "execute_result"
    }
   ],
   "source": [
    "df"
   ]
  },
  {
   "cell_type": "code",
   "execution_count": 17,
   "id": "1c56c1f9",
   "metadata": {},
   "outputs": [],
   "source": [
    "df = df.rename(columns={\n",
    "    0: \"neighborhood\",\n",
    "    1: \"2020\"\n",
    "})"
   ]
  },
  {
   "cell_type": "code",
   "execution_count": 18,
   "id": "063e7f9a",
   "metadata": {},
   "outputs": [],
   "source": [
    "df = df.drop([2,3], axis=1)"
   ]
  },
  {
   "cell_type": "code",
   "execution_count": 19,
   "id": "30a96c5e",
   "metadata": {},
   "outputs": [],
   "source": [
    "df.to_csv(\"neighborhood_pop.csv\", index=False)"
   ]
  },
  {
   "cell_type": "markdown",
   "id": "5a89c3fe",
   "metadata": {},
   "source": [
    "### TODO - CALCULATE MURALS PER CAPITA"
   ]
  },
  {
   "cell_type": "code",
   "execution_count": 20,
   "id": "024dd412",
   "metadata": {},
   "outputs": [],
   "source": [
    "# murals_in_old_north_st_louis / df[df[\"neighborhood\"] == \"Old North St. Louis\"]"
   ]
  },
  {
   "cell_type": "code",
   "execution_count": 21,
   "id": "9d5624bc",
   "metadata": {},
   "outputs": [],
   "source": [
    "# murals_in_forest_park / df[df[\"neighborhood\"] == \"Forest Park South East\"]"
   ]
  },
  {
   "cell_type": "code",
   "execution_count": 22,
   "id": "8154f3ae",
   "metadata": {},
   "outputs": [],
   "source": [
    "# murals_in_convenant-blu / df[df[\"neighborhood\"] == \"Covenant Blu-Grand Center\"]"
   ]
  },
  {
   "cell_type": "markdown",
   "id": "19355896",
   "metadata": {},
   "source": [
    "## Walkability"
   ]
  },
  {
   "cell_type": "code",
   "execution_count": 42,
   "id": "37045721",
   "metadata": {},
   "outputs": [],
   "source": [
    "response = requests.get(\"https://www.walkscore.com/MO/St._Louis\")\n",
    "doc = BeautifulSoup(response.text)"
   ]
  },
  {
   "cell_type": "code",
   "execution_count": 43,
   "id": "8c64aebc",
   "metadata": {},
   "outputs": [],
   "source": [
    "table = doc.find(\"table\", class_=\"tablesorter\").find(\"tbody\")\n",
    "\n",
    "neighborhoods = []\n",
    "\n",
    "for row in table:\n",
    "    if row.find(\"td\") != -1:\n",
    "        rank = row.find(\"td\").text\n",
    "        name = row.find(\"td\", class_=\"name\").text\n",
    "        walk_score = row.find(\"td\", class_=\"walkscore\").text\n",
    "        transit_score = row.find(\"td\", class_=\"transitscore\").text\n",
    "        bike_score = row.find(\"td\", class_=\"bikescore\").text\n",
    "        population = row.find(\"td\", class_=\"population\").text\n",
    "        \n",
    "        neighborhood = {\n",
    "            \"rank\": rank,\n",
    "            \"name\": name,\n",
    "            \"walk\": walk_score,\n",
    "            \"transit_score\": transit_score,\n",
    "            \"bike_score\": bike_score,\n",
    "            \"population\": population\n",
    "        }\n",
    "        \n",
    "        neighborhoods.append(neighborhood)"
   ]
  },
  {
   "cell_type": "code",
   "execution_count": 44,
   "id": "f40b8657",
   "metadata": {},
   "outputs": [
    {
     "data": {
      "text/html": [
       "<div>\n",
       "<style scoped>\n",
       "    .dataframe tbody tr th:only-of-type {\n",
       "        vertical-align: middle;\n",
       "    }\n",
       "\n",
       "    .dataframe tbody tr th {\n",
       "        vertical-align: top;\n",
       "    }\n",
       "\n",
       "    .dataframe thead th {\n",
       "        text-align: right;\n",
       "    }\n",
       "</style>\n",
       "<table border=\"1\" class=\"dataframe\">\n",
       "  <thead>\n",
       "    <tr style=\"text-align: right;\">\n",
       "      <th></th>\n",
       "      <th>rank</th>\n",
       "      <th>name</th>\n",
       "      <th>walk</th>\n",
       "      <th>transit_score</th>\n",
       "      <th>bike_score</th>\n",
       "      <th>population</th>\n",
       "    </tr>\n",
       "  </thead>\n",
       "  <tbody>\n",
       "    <tr>\n",
       "      <th>0</th>\n",
       "      <td>1</td>\n",
       "      <td>Benton Park West</td>\n",
       "      <td>88</td>\n",
       "      <td>43</td>\n",
       "      <td>63</td>\n",
       "      <td>4,264</td>\n",
       "    </tr>\n",
       "    <tr>\n",
       "      <th>1</th>\n",
       "      <td>2</td>\n",
       "      <td>Downtown</td>\n",
       "      <td>87</td>\n",
       "      <td>64</td>\n",
       "      <td>61</td>\n",
       "      <td>7,670</td>\n",
       "    </tr>\n",
       "    <tr>\n",
       "      <th>2</th>\n",
       "      <td>3</td>\n",
       "      <td>Tower Grove East</td>\n",
       "      <td>85</td>\n",
       "      <td>43</td>\n",
       "      <td>76</td>\n",
       "      <td>5,880</td>\n",
       "    </tr>\n",
       "    <tr>\n",
       "      <th>3</th>\n",
       "      <td>4</td>\n",
       "      <td>Soulard</td>\n",
       "      <td>85</td>\n",
       "      <td>39</td>\n",
       "      <td>59</td>\n",
       "      <td>3,429</td>\n",
       "    </tr>\n",
       "    <tr>\n",
       "      <th>4</th>\n",
       "      <td>5</td>\n",
       "      <td>Gravois Park</td>\n",
       "      <td>84</td>\n",
       "      <td>44</td>\n",
       "      <td>57</td>\n",
       "      <td>5,170</td>\n",
       "    </tr>\n",
       "    <tr>\n",
       "      <th>5</th>\n",
       "      <td>6</td>\n",
       "      <td>Benton Park</td>\n",
       "      <td>84</td>\n",
       "      <td>42</td>\n",
       "      <td>57</td>\n",
       "      <td>3,436</td>\n",
       "    </tr>\n",
       "    <tr>\n",
       "      <th>6</th>\n",
       "      <td>7</td>\n",
       "      <td>Lafayette Square</td>\n",
       "      <td>82</td>\n",
       "      <td>51</td>\n",
       "      <td>63</td>\n",
       "      <td>2,056</td>\n",
       "    </tr>\n",
       "    <tr>\n",
       "      <th>7</th>\n",
       "      <td>8</td>\n",
       "      <td>Forest Park Southeast</td>\n",
       "      <td>82</td>\n",
       "      <td>55</td>\n",
       "      <td>78</td>\n",
       "      <td>2,911</td>\n",
       "    </tr>\n",
       "    <tr>\n",
       "      <th>8</th>\n",
       "      <td>9</td>\n",
       "      <td>Near Southside</td>\n",
       "      <td>81</td>\n",
       "      <td>61</td>\n",
       "      <td>59</td>\n",
       "      <td>2,360</td>\n",
       "    </tr>\n",
       "    <tr>\n",
       "      <th>9</th>\n",
       "      <td>10</td>\n",
       "      <td>Fox Park</td>\n",
       "      <td>80</td>\n",
       "      <td>40</td>\n",
       "      <td>62</td>\n",
       "      <td>2,600</td>\n",
       "    </tr>\n",
       "  </tbody>\n",
       "</table>\n",
       "</div>"
      ],
      "text/plain": [
       "  rank                   name walk transit_score bike_score population\n",
       "0    1       Benton Park West   88           43         63       4,264\n",
       "1    2               Downtown   87           64         61       7,670\n",
       "2    3       Tower Grove East   85           43         76       5,880\n",
       "3    4                Soulard   85           39         59       3,429\n",
       "4    5           Gravois Park   84           44         57       5,170\n",
       "5    6            Benton Park   84           42         57       3,436\n",
       "6    7       Lafayette Square   82           51         63       2,056\n",
       "7    8  Forest Park Southeast   82           55         78       2,911\n",
       "8    9         Near Southside   81           61         59       2,360\n",
       "9   10               Fox Park   80           40         62       2,600"
      ]
     },
     "execution_count": 44,
     "metadata": {},
     "output_type": "execute_result"
    }
   ],
   "source": [
    "df = pd.DataFrame(neighborhoods)\n",
    "df.head(10)"
   ]
  },
  {
   "cell_type": "code",
   "execution_count": 26,
   "id": "e58dae56",
   "metadata": {},
   "outputs": [],
   "source": [
    "df.to_csv(\"neighborhood_walk.csv\", index=False)"
   ]
  },
  {
   "cell_type": "markdown",
   "id": "b9aa529d",
   "metadata": {},
   "source": [
    "### St. Louis score"
   ]
  },
  {
   "cell_type": "code",
   "execution_count": 27,
   "id": "3b780a0e",
   "metadata": {},
   "outputs": [],
   "source": [
    "stl_walk = 66\n",
    "stl_transit = 43\n",
    "stl_bike = 58"
   ]
  },
  {
   "cell_type": "code",
   "execution_count": 53,
   "id": "d4143aba",
   "metadata": {},
   "outputs": [
    {
     "data": {
      "text/plain": [
       "24.242424242424242"
      ]
     },
     "execution_count": 53,
     "metadata": {},
     "output_type": "execute_result"
    }
   ],
   "source": [
    "# (v2-v1/v1)*100\n",
    "# Forest Park Southeast percent change\n",
    "\n",
    "((82 - 66) / 66) * 100"
   ]
  },
  {
   "cell_type": "markdown",
   "id": "ec2db032",
   "metadata": {},
   "source": [
    "### Median walk score"
   ]
  },
  {
   "cell_type": "code",
   "execution_count": 28,
   "id": "30cf4940",
   "metadata": {},
   "outputs": [
    {
     "data": {
      "text/plain": [
       "64.0"
      ]
     },
     "execution_count": 28,
     "metadata": {},
     "output_type": "execute_result"
    }
   ],
   "source": [
    "df[\"walk\"].median()"
   ]
  },
  {
   "cell_type": "markdown",
   "id": "38a6dfff",
   "metadata": {},
   "source": [
    "### Average walk score"
   ]
  },
  {
   "cell_type": "code",
   "execution_count": 29,
   "id": "5594c769",
   "metadata": {},
   "outputs": [
    {
     "data": {
      "text/plain": [
       "64"
      ]
     },
     "execution_count": 29,
     "metadata": {},
     "output_type": "execute_result"
    }
   ],
   "source": [
    "round(df[\"walk\"].astype(int).mean())"
   ]
  },
  {
   "cell_type": "code",
   "execution_count": 30,
   "id": "e9797de0",
   "metadata": {},
   "outputs": [
    {
     "data": {
      "text/html": [
       "<div>\n",
       "<style scoped>\n",
       "    .dataframe tbody tr th:only-of-type {\n",
       "        vertical-align: middle;\n",
       "    }\n",
       "\n",
       "    .dataframe tbody tr th {\n",
       "        vertical-align: top;\n",
       "    }\n",
       "\n",
       "    .dataframe thead th {\n",
       "        text-align: right;\n",
       "    }\n",
       "</style>\n",
       "<table border=\"1\" class=\"dataframe\">\n",
       "  <thead>\n",
       "    <tr style=\"text-align: right;\">\n",
       "      <th></th>\n",
       "      <th>rank</th>\n",
       "      <th>name</th>\n",
       "      <th>walk</th>\n",
       "      <th>transit_score</th>\n",
       "      <th>bike_score</th>\n",
       "      <th>population</th>\n",
       "    </tr>\n",
       "  </thead>\n",
       "  <tbody>\n",
       "    <tr>\n",
       "      <th>7</th>\n",
       "      <td>8</td>\n",
       "      <td>Forest Park Southeast</td>\n",
       "      <td>82</td>\n",
       "      <td>55</td>\n",
       "      <td>78</td>\n",
       "      <td>2,911</td>\n",
       "    </tr>\n",
       "  </tbody>\n",
       "</table>\n",
       "</div>"
      ],
      "text/plain": [
       "  rank                   name walk transit_score bike_score population\n",
       "7    8  Forest Park Southeast   82           55         78       2,911"
      ]
     },
     "execution_count": 30,
     "metadata": {},
     "output_type": "execute_result"
    }
   ],
   "source": [
    "df[df[\"name\"] == \"Forest Park Southeast\"]"
   ]
  },
  {
   "cell_type": "code",
   "execution_count": 31,
   "id": "0de648fe",
   "metadata": {},
   "outputs": [
    {
     "data": {
      "text/html": [
       "<div>\n",
       "<style scoped>\n",
       "    .dataframe tbody tr th:only-of-type {\n",
       "        vertical-align: middle;\n",
       "    }\n",
       "\n",
       "    .dataframe tbody tr th {\n",
       "        vertical-align: top;\n",
       "    }\n",
       "\n",
       "    .dataframe thead th {\n",
       "        text-align: right;\n",
       "    }\n",
       "</style>\n",
       "<table border=\"1\" class=\"dataframe\">\n",
       "  <thead>\n",
       "    <tr style=\"text-align: right;\">\n",
       "      <th></th>\n",
       "      <th>rank</th>\n",
       "      <th>name</th>\n",
       "      <th>walk</th>\n",
       "      <th>transit_score</th>\n",
       "      <th>bike_score</th>\n",
       "      <th>population</th>\n",
       "    </tr>\n",
       "  </thead>\n",
       "  <tbody>\n",
       "    <tr>\n",
       "      <th>36</th>\n",
       "      <td>37</td>\n",
       "      <td>Old North St. Louis</td>\n",
       "      <td>64</td>\n",
       "      <td>43</td>\n",
       "      <td>65</td>\n",
       "      <td>1,917</td>\n",
       "    </tr>\n",
       "  </tbody>\n",
       "</table>\n",
       "</div>"
      ],
      "text/plain": [
       "   rank                 name walk transit_score bike_score population\n",
       "36   37  Old North St. Louis   64           43         65       1,917"
      ]
     },
     "execution_count": 31,
     "metadata": {},
     "output_type": "execute_result"
    }
   ],
   "source": [
    "df[df[\"name\"] == \"Old North St. Louis\"]"
   ]
  },
  {
   "cell_type": "code",
   "execution_count": 32,
   "id": "34d40e06",
   "metadata": {},
   "outputs": [
    {
     "data": {
      "text/html": [
       "<div>\n",
       "<style scoped>\n",
       "    .dataframe tbody tr th:only-of-type {\n",
       "        vertical-align: middle;\n",
       "    }\n",
       "\n",
       "    .dataframe tbody tr th {\n",
       "        vertical-align: top;\n",
       "    }\n",
       "\n",
       "    .dataframe thead th {\n",
       "        text-align: right;\n",
       "    }\n",
       "</style>\n",
       "<table border=\"1\" class=\"dataframe\">\n",
       "  <thead>\n",
       "    <tr style=\"text-align: right;\">\n",
       "      <th></th>\n",
       "      <th>rank</th>\n",
       "      <th>name</th>\n",
       "      <th>walk</th>\n",
       "      <th>transit_score</th>\n",
       "      <th>bike_score</th>\n",
       "      <th>population</th>\n",
       "    </tr>\n",
       "  </thead>\n",
       "  <tbody>\n",
       "    <tr>\n",
       "      <th>24</th>\n",
       "      <td>25</td>\n",
       "      <td>Grand Center</td>\n",
       "      <td>70</td>\n",
       "      <td>51</td>\n",
       "      <td>66</td>\n",
       "      <td>3,492</td>\n",
       "    </tr>\n",
       "  </tbody>\n",
       "</table>\n",
       "</div>"
      ],
      "text/plain": [
       "   rank          name walk transit_score bike_score population\n",
       "24   25  Grand Center   70           51         66       3,492"
      ]
     },
     "execution_count": 32,
     "metadata": {},
     "output_type": "execute_result"
    }
   ],
   "source": [
    "df[df[\"name\"] == \"Grand Center\"]"
   ]
  },
  {
   "cell_type": "markdown",
   "id": "537f2d78",
   "metadata": {},
   "source": [
    "## Neighborhoods list"
   ]
  },
  {
   "cell_type": "code",
   "execution_count": 34,
   "id": "b8023f07",
   "metadata": {},
   "outputs": [
    {
     "data": {
      "text/html": [
       "<div>\n",
       "<style scoped>\n",
       "    .dataframe tbody tr th:only-of-type {\n",
       "        vertical-align: middle;\n",
       "    }\n",
       "\n",
       "    .dataframe tbody tr th {\n",
       "        vertical-align: top;\n",
       "    }\n",
       "\n",
       "    .dataframe thead th {\n",
       "        text-align: right;\n",
       "    }\n",
       "</style>\n",
       "<table border=\"1\" class=\"dataframe\">\n",
       "  <thead>\n",
       "    <tr style=\"text-align: right;\">\n",
       "      <th></th>\n",
       "      <th>NHD_NUM</th>\n",
       "      <th>NHD_NAME</th>\n",
       "      <th>ANGLE</th>\n",
       "      <th>NHD_NUMTXT</th>\n",
       "      <th>NHD_NUM_ST</th>\n",
       "    </tr>\n",
       "  </thead>\n",
       "  <tbody>\n",
       "    <tr>\n",
       "      <th>0</th>\n",
       "      <td>43</td>\n",
       "      <td>Franz Park</td>\n",
       "      <td>0.0</td>\n",
       "      <td>43 Franz Park</td>\n",
       "      <td>43</td>\n",
       "    </tr>\n",
       "    <tr>\n",
       "      <th>1</th>\n",
       "      <td>29</td>\n",
       "      <td>Tiffany</td>\n",
       "      <td>0.0</td>\n",
       "      <td>29 Tiffany</td>\n",
       "      <td>29</td>\n",
       "    </tr>\n",
       "    <tr>\n",
       "      <th>2</th>\n",
       "      <td>28</td>\n",
       "      <td>Botanical Heights</td>\n",
       "      <td>0.0</td>\n",
       "      <td>28 Botanical Heights</td>\n",
       "      <td>28</td>\n",
       "    </tr>\n",
       "    <tr>\n",
       "      <th>3</th>\n",
       "      <td>40</td>\n",
       "      <td>Kings Oak</td>\n",
       "      <td>0.0</td>\n",
       "      <td>40 Kings Oak</td>\n",
       "      <td>40</td>\n",
       "    </tr>\n",
       "    <tr>\n",
       "      <th>4</th>\n",
       "      <td>41</td>\n",
       "      <td>Cheltenham</td>\n",
       "      <td>0.0</td>\n",
       "      <td>41 Cheltenham</td>\n",
       "      <td>41</td>\n",
       "    </tr>\n",
       "    <tr>\n",
       "      <th>...</th>\n",
       "      <td>...</td>\n",
       "      <td>...</td>\n",
       "      <td>...</td>\n",
       "      <td>...</td>\n",
       "      <td>...</td>\n",
       "    </tr>\n",
       "    <tr>\n",
       "      <th>83</th>\n",
       "      <td>61</td>\n",
       "      <td>Old North St. Louis</td>\n",
       "      <td>0.0</td>\n",
       "      <td>63 Old North St. Louis</td>\n",
       "      <td>63</td>\n",
       "    </tr>\n",
       "    <tr>\n",
       "      <th>84</th>\n",
       "      <td>61</td>\n",
       "      <td>Carr Square</td>\n",
       "      <td>0.0</td>\n",
       "      <td>61 Carr Square</td>\n",
       "      <td>61</td>\n",
       "    </tr>\n",
       "    <tr>\n",
       "      <th>85</th>\n",
       "      <td>61</td>\n",
       "      <td>Hyde Park</td>\n",
       "      <td>0.0</td>\n",
       "      <td>65 Hyde Park</td>\n",
       "      <td>65</td>\n",
       "    </tr>\n",
       "    <tr>\n",
       "      <th>86</th>\n",
       "      <td>61</td>\n",
       "      <td>St. Louis Place</td>\n",
       "      <td>0.0</td>\n",
       "      <td>60 St. Louis Place</td>\n",
       "      <td>60</td>\n",
       "    </tr>\n",
       "    <tr>\n",
       "      <th>87</th>\n",
       "      <td>61</td>\n",
       "      <td>Downtown West</td>\n",
       "      <td>0.0</td>\n",
       "      <td>36 Downtown West</td>\n",
       "      <td>36</td>\n",
       "    </tr>\n",
       "  </tbody>\n",
       "</table>\n",
       "<p>88 rows × 5 columns</p>\n",
       "</div>"
      ],
      "text/plain": [
       "    NHD_NUM             NHD_NAME  ANGLE              NHD_NUMTXT  NHD_NUM_ST\n",
       "0        43           Franz Park    0.0           43 Franz Park          43\n",
       "1        29              Tiffany    0.0              29 Tiffany          29\n",
       "2        28    Botanical Heights    0.0    28 Botanical Heights          28\n",
       "3        40            Kings Oak    0.0            40 Kings Oak          40\n",
       "4        41           Cheltenham    0.0           41 Cheltenham          41\n",
       "..      ...                  ...    ...                     ...         ...\n",
       "83       61  Old North St. Louis    0.0  63 Old North St. Louis          63\n",
       "84       61          Carr Square    0.0          61 Carr Square          61\n",
       "85       61            Hyde Park    0.0            65 Hyde Park          65\n",
       "86       61      St. Louis Place    0.0      60 St. Louis Place          60\n",
       "87       61        Downtown West    0.0        36 Downtown West          36\n",
       "\n",
       "[88 rows x 5 columns]"
      ]
     },
     "execution_count": 34,
     "metadata": {},
     "output_type": "execute_result"
    }
   ],
   "source": [
    "df = pd.read_csv(\"neighborhood_list.csv\")\n",
    "df"
   ]
  },
  {
   "cell_type": "code",
   "execution_count": 35,
   "id": "1dae8f95",
   "metadata": {},
   "outputs": [],
   "source": [
    "df = df.rename(columns={\n",
    "    \"NHD_NAME\": \"name\",\n",
    "    \"NHD_NUM_ST\": \"ID\"\n",
    "})\n",
    "\n",
    "df = df.drop(\"NHD_NUM\", axis=1)\n",
    "df = df.drop(\"ANGLE\", axis=1)\n",
    "df = df.drop(\"NHD_NUMTXT\", axis=1)"
   ]
  },
  {
   "cell_type": "code",
   "execution_count": 36,
   "id": "d1f0c49d",
   "metadata": {},
   "outputs": [
    {
     "data": {
      "text/html": [
       "<div>\n",
       "<style scoped>\n",
       "    .dataframe tbody tr th:only-of-type {\n",
       "        vertical-align: middle;\n",
       "    }\n",
       "\n",
       "    .dataframe tbody tr th {\n",
       "        vertical-align: top;\n",
       "    }\n",
       "\n",
       "    .dataframe thead th {\n",
       "        text-align: right;\n",
       "    }\n",
       "</style>\n",
       "<table border=\"1\" class=\"dataframe\">\n",
       "  <thead>\n",
       "    <tr style=\"text-align: right;\">\n",
       "      <th></th>\n",
       "      <th>name</th>\n",
       "      <th>ID</th>\n",
       "    </tr>\n",
       "  </thead>\n",
       "  <tbody>\n",
       "    <tr>\n",
       "      <th>18</th>\n",
       "      <td>Academy</td>\n",
       "      <td>51</td>\n",
       "    </tr>\n",
       "    <tr>\n",
       "      <th>75</th>\n",
       "      <td>Baden</td>\n",
       "      <td>74</td>\n",
       "    </tr>\n",
       "    <tr>\n",
       "      <th>71</th>\n",
       "      <td>Bellefontaine/Calvary Cemetery</td>\n",
       "      <td>86</td>\n",
       "    </tr>\n",
       "    <tr>\n",
       "      <th>44</th>\n",
       "      <td>Benton Park</td>\n",
       "      <td>22</td>\n",
       "    </tr>\n",
       "    <tr>\n",
       "      <th>41</th>\n",
       "      <td>Benton Park West</td>\n",
       "      <td>30</td>\n",
       "    </tr>\n",
       "    <tr>\n",
       "      <th>...</th>\n",
       "      <td>...</td>\n",
       "      <td>...</td>\n",
       "    </tr>\n",
       "    <tr>\n",
       "      <th>72</th>\n",
       "      <td>Walnut Park West</td>\n",
       "      <td>76</td>\n",
       "    </tr>\n",
       "    <tr>\n",
       "      <th>67</th>\n",
       "      <td>Wells Goodfellow</td>\n",
       "      <td>50</td>\n",
       "    </tr>\n",
       "    <tr>\n",
       "      <th>20</th>\n",
       "      <td>West End</td>\n",
       "      <td>48</td>\n",
       "    </tr>\n",
       "    <tr>\n",
       "      <th>34</th>\n",
       "      <td>Willmore Park</td>\n",
       "      <td>88</td>\n",
       "    </tr>\n",
       "    <tr>\n",
       "      <th>10</th>\n",
       "      <td>Wydown Skinker</td>\n",
       "      <td>45</td>\n",
       "    </tr>\n",
       "  </tbody>\n",
       "</table>\n",
       "<p>88 rows × 2 columns</p>\n",
       "</div>"
      ],
      "text/plain": [
       "                              name  ID\n",
       "18                         Academy  51\n",
       "75                           Baden  74\n",
       "71  Bellefontaine/Calvary Cemetery  86\n",
       "44                     Benton Park  22\n",
       "41                Benton Park West  30\n",
       "..                             ...  ..\n",
       "72                Walnut Park West  76\n",
       "67                Wells Goodfellow  50\n",
       "20                        West End  48\n",
       "34                   Willmore Park  88\n",
       "10                  Wydown Skinker  45\n",
       "\n",
       "[88 rows x 2 columns]"
      ]
     },
     "execution_count": 36,
     "metadata": {},
     "output_type": "execute_result"
    }
   ],
   "source": [
    "df.sort_values(\"name\", ascending=True)"
   ]
  },
  {
   "cell_type": "markdown",
   "id": "0c9696b4",
   "metadata": {},
   "source": [
    "## Crime"
   ]
  },
  {
   "cell_type": "code",
   "execution_count": 37,
   "id": "aa4ac092",
   "metadata": {},
   "outputs": [],
   "source": [
    "response = requests.get(\"https://graphics.stltoday.com/apps/crime/st-louis-city/\")\n",
    "doc = BeautifulSoup(response.text)\n",
    "\n",
    "neighborhoods = doc.find(\"ul\").find_all(\"li\")\n",
    "base_url = \"https://graphics.stltoday.com\"\n",
    "urls = []\n",
    "\n",
    "for neighborhood in neighborhoods[4:]:\n",
    "    url = base_url + neighborhood.a.get('href')\n",
    "    urls.append(url)\n",
    "\n",
    "# print(urls)"
   ]
  },
  {
   "cell_type": "code",
   "execution_count": 38,
   "id": "b6da292a",
   "metadata": {},
   "outputs": [
    {
     "data": {
      "text/html": [
       "<div>\n",
       "<style scoped>\n",
       "    .dataframe tbody tr th:only-of-type {\n",
       "        vertical-align: middle;\n",
       "    }\n",
       "\n",
       "    .dataframe tbody tr th {\n",
       "        vertical-align: top;\n",
       "    }\n",
       "\n",
       "    .dataframe thead th {\n",
       "        text-align: right;\n",
       "    }\n",
       "</style>\n",
       "<table border=\"1\" class=\"dataframe\">\n",
       "  <thead>\n",
       "    <tr style=\"text-align: right;\">\n",
       "      <th></th>\n",
       "      <th>0</th>\n",
       "    </tr>\n",
       "  </thead>\n",
       "  <tbody>\n",
       "    <tr>\n",
       "      <th>0</th>\n",
       "      <td>https://graphics.stltoday.com/apps/crime/st-lo...</td>\n",
       "    </tr>\n",
       "    <tr>\n",
       "      <th>1</th>\n",
       "      <td>https://graphics.stltoday.com/apps/crime/st-lo...</td>\n",
       "    </tr>\n",
       "    <tr>\n",
       "      <th>2</th>\n",
       "      <td>https://graphics.stltoday.com/apps/crime/st-lo...</td>\n",
       "    </tr>\n",
       "    <tr>\n",
       "      <th>3</th>\n",
       "      <td>https://graphics.stltoday.com/apps/crime/st-lo...</td>\n",
       "    </tr>\n",
       "    <tr>\n",
       "      <th>4</th>\n",
       "      <td>https://graphics.stltoday.com/apps/crime/st-lo...</td>\n",
       "    </tr>\n",
       "    <tr>\n",
       "      <th>...</th>\n",
       "      <td>...</td>\n",
       "    </tr>\n",
       "    <tr>\n",
       "      <th>147</th>\n",
       "      <td>https://graphics.stltoday.com/apps/crime/st-lo...</td>\n",
       "    </tr>\n",
       "    <tr>\n",
       "      <th>148</th>\n",
       "      <td>https://graphics.stltoday.com/apps/crime/st-lo...</td>\n",
       "    </tr>\n",
       "    <tr>\n",
       "      <th>149</th>\n",
       "      <td>https://graphics.stltoday.com/apps/crime/st-lo...</td>\n",
       "    </tr>\n",
       "    <tr>\n",
       "      <th>150</th>\n",
       "      <td>https://graphics.stltoday.com/apps/crime/st-lo...</td>\n",
       "    </tr>\n",
       "    <tr>\n",
       "      <th>151</th>\n",
       "      <td>https://graphics.stltoday.com/apps/crime/st-lo...</td>\n",
       "    </tr>\n",
       "  </tbody>\n",
       "</table>\n",
       "<p>152 rows × 1 columns</p>\n",
       "</div>"
      ],
      "text/plain": [
       "                                                     0\n",
       "0    https://graphics.stltoday.com/apps/crime/st-lo...\n",
       "1    https://graphics.stltoday.com/apps/crime/st-lo...\n",
       "2    https://graphics.stltoday.com/apps/crime/st-lo...\n",
       "3    https://graphics.stltoday.com/apps/crime/st-lo...\n",
       "4    https://graphics.stltoday.com/apps/crime/st-lo...\n",
       "..                                                 ...\n",
       "147  https://graphics.stltoday.com/apps/crime/st-lo...\n",
       "148  https://graphics.stltoday.com/apps/crime/st-lo...\n",
       "149  https://graphics.stltoday.com/apps/crime/st-lo...\n",
       "150  https://graphics.stltoday.com/apps/crime/st-lo...\n",
       "151  https://graphics.stltoday.com/apps/crime/st-lo...\n",
       "\n",
       "[152 rows x 1 columns]"
      ]
     },
     "execution_count": 38,
     "metadata": {},
     "output_type": "execute_result"
    }
   ],
   "source": [
    "df = pd.DataFrame(urls)\n",
    "df"
   ]
  },
  {
   "cell_type": "code",
   "execution_count": 39,
   "id": "62d1d7a2",
   "metadata": {},
   "outputs": [
    {
     "name": "stdout",
     "output_type": "stream",
     "text": [
      "Searching for forest-park-south-east/\n",
      "Visiting the search page\n",
      "Searching for old-north-st-louis/\n",
      "Visiting the search page\n",
      "Searching for covenant-blu-grand-center/\n",
      "Visiting the search page\n",
      "[{'neighborhood': 'Forest Park South East', 'change': 'down 7.51%', 'per_capita_rate': '67.51', 'per_capita_rank': 'higher than 69 neighborhoods (out of 77)'}, {'neighborhood': 'Old North St. Louis', 'change': 'down 13.45%', 'per_capita_rate': '53.76', 'per_capita_rank': 'higher than 64 neighborhoods (out of 77)'}, {'neighborhood': 'Covenant Blu-Grand Center', 'change': 'down 28.5%', 'per_capita_rate': '42.95', 'per_capita_rank': 'higher than 51 neighborhoods (out of 77)'}]\n"
     ]
    }
   ],
   "source": [
    "neighborhoods = [\"forest-park-south-east/\", \"old-north-st-louis/\", \"covenant-blu-grand-center/\"]\n",
    "\n",
    "neighborhood_info = []\n",
    "\n",
    "for neighborhood in neighborhoods:\n",
    "    print(\"Searching for\", neighborhood)\n",
    "    print(\"Visiting the search page\")\n",
    "\n",
    "    driver.get(f\"https://graphics.stltoday.com/apps/crime/st-louis-city/{neighborhood}\")\n",
    "\n",
    "    name = driver.find_elements(By.TAG_NAME, \"h1\")[3].text\n",
    "    change = driver.find_elements(By.CLASS_NAME, \"crimechange\")[0].text\n",
    "    per_capita_rate = driver.find_elements(By.CLASS_NAME, \"percapitarate\")[0].text\n",
    "    per_capita_rank = driver.find_elements(By.CLASS_NAME, \"percapitarank\")[0].text\n",
    "\n",
    "    info = {\n",
    "        \"neighborhood\": name,\n",
    "        \"change\": change,\n",
    "        \"per_capita_rate\": per_capita_rate,\n",
    "        \"per_capita_rank\": per_capita_rank\n",
    "    }\n",
    "    \n",
    "    neighborhood_info.append(info)\n",
    "\n",
    "print(neighborhood_info)"
   ]
  },
  {
   "cell_type": "code",
   "execution_count": 40,
   "id": "3c6af4a8",
   "metadata": {},
   "outputs": [],
   "source": [
    "df = pd.DataFrame(neighborhood_info)\n",
    "df.to_csv(\"neighborhood_crime.csv\", index=False)"
   ]
  },
  {
   "cell_type": "markdown",
   "id": "68837ebe",
   "metadata": {},
   "source": [
    "## NICE TO HAVE"
   ]
  },
  {
   "cell_type": "markdown",
   "id": "b0c88d97",
   "metadata": {},
   "source": [
    "## Adjacent Neighborhoods"
   ]
  },
  {
   "cell_type": "code",
   "execution_count": null,
   "id": "fadd8e51",
   "metadata": {},
   "outputs": [],
   "source": [
    "# forest_park_southeast = [\"Central West End\", \"Midtown\", \"Botanical Heights\", \"Southwest Garden\", \"The Hill\", \"Kings Oak\"]\n",
    "# convenant_blu = [\"Central West End\", \"Midtown\", \"Jeff Vanderlou\", \"Vandeveter\", \"Greater Ville\"]\n",
    "# old_north_st_louis = [\"Hyde Park\", \"St. Louis Place\", \"Carr Square\", \"Columbus Square\", \"Near North Riverfront\"]"
   ]
  }
 ],
 "metadata": {
  "kernelspec": {
   "display_name": "Python 3 (ipykernel)",
   "language": "python",
   "name": "python3"
  },
  "language_info": {
   "codemirror_mode": {
    "name": "ipython",
    "version": 3
   },
   "file_extension": ".py",
   "mimetype": "text/x-python",
   "name": "python",
   "nbconvert_exporter": "python",
   "pygments_lexer": "ipython3",
   "version": "3.10.3"
  }
 },
 "nbformat": 4,
 "nbformat_minor": 5
}
