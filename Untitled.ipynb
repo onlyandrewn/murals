{
 "cells": [
  {
   "cell_type": "markdown",
   "id": "1231df21",
   "metadata": {},
   "source": [
    "# Beautifying neighborhoods in St. Louis"
   ]
  },
  {
   "cell_type": "code",
   "execution_count": null,
   "id": "757cbcb9",
   "metadata": {},
   "outputs": [],
   "source": [
    "# csv file of neighborhoods in St. Louis\n",
    "# - Population of each neighborhood in St. Louis\n",
    "# - Property value of a neighborhood from Redfin\n",
    "# - Walkability score from .GOV site and that other walkability site\n",
    "# - STARS collision data\n",
    "# - CRIME data from the St. Louis Post-Dispatch crime tracker, find original source\n",
    "# - All murals from a specific neighborhood"
   ]
  },
  {
   "cell_type": "code",
   "execution_count": 119,
   "id": "dd0daad7",
   "metadata": {},
   "outputs": [],
   "source": [
    "import requests\n",
    "from bs4 import BeautifulSoup\n",
    "import pandas as pd"
   ]
  },
  {
   "cell_type": "code",
   "execution_count": 13,
   "id": "231e620a",
   "metadata": {},
   "outputs": [],
   "source": [
    "response = requests.get(\"https://www.walkscore.com/MO/St._Louis\")\n",
    "doc = BeautifulSoup(response.text)\n",
    "# doc"
   ]
  },
  {
   "cell_type": "markdown",
   "id": "282838a4",
   "metadata": {},
   "source": [
    "## Murals"
   ]
  },
  {
   "cell_type": "code",
   "execution_count": null,
   "id": "0333cf3b",
   "metadata": {},
   "outputs": [],
   "source": [
    "# Num of murals in three key neighborhoods\n",
    "# Num of murals in neighborhoods adjacent to three key neighborhoods\n",
    "\n",
    "\n",
    "# df.to_csv(\"murals.csv\", index=False)"
   ]
  },
  {
   "cell_type": "markdown",
   "id": "a99a3805",
   "metadata": {},
   "source": [
    "## Demographics"
   ]
  },
  {
   "cell_type": "code",
   "execution_count": 162,
   "id": "628d8676",
   "metadata": {},
   "outputs": [],
   "source": [
    "# !pip install selenium\n",
    "# !pip install webdriver-manager"
   ]
  },
  {
   "cell_type": "code",
   "execution_count": 120,
   "id": "7df1d198",
   "metadata": {},
   "outputs": [],
   "source": [
    "from selenium import webdriver\n",
    "from selenium.webdriver.common.by import By\n",
    "from webdriver_manager.chrome import ChromeDriverManager"
   ]
  },
  {
   "cell_type": "code",
   "execution_count": 121,
   "id": "a1b35777",
   "metadata": {},
   "outputs": [
    {
     "name": "stdout",
     "output_type": "stream",
     "text": [
      "\n"
     ]
    },
    {
     "name": "stderr",
     "output_type": "stream",
     "text": [
      "/var/folders/n9/d59lbjm54zq90fxhmx7qktmc0000gn/T/ipykernel_15083/31274722.py:3: DeprecationWarning: executable_path has been deprecated, please pass in a Service object\n",
      "  driver = webdriver.Chrome(ChromeDriverManager().install())\n"
     ]
    }
   ],
   "source": [
    "# driver = webdriver.Chrome(ChromeDriverManager().install())\n",
    "\n",
    "driver = webdriver.Chrome(ChromeDriverManager().install())"
   ]
  },
  {
   "cell_type": "code",
   "execution_count": 166,
   "id": "e8cccf17",
   "metadata": {},
   "outputs": [],
   "source": [
    "driver.get(\"https://www.stlouis-mo.gov/government/departments/planning/research/census/data/neighborhoods/index.cfm?censusYear=2020&comparisonYear=0&measure=P0010001\")"
   ]
  },
  {
   "cell_type": "code",
   "execution_count": 170,
   "id": "246d10d1",
   "metadata": {},
   "outputs": [],
   "source": [
    "driver.find_element(By.XPATH, '//*[@id=\"DataTables_Table_0\"]/tbody/tr[19]/td[1]/a').click()"
   ]
  },
  {
   "cell_type": "code",
   "execution_count": 173,
   "id": "daf6ccf0",
   "metadata": {},
   "outputs": [
    {
     "data": {
      "text/html": [
       "<div>\n",
       "<style scoped>\n",
       "    .dataframe tbody tr th:only-of-type {\n",
       "        vertical-align: middle;\n",
       "    }\n",
       "\n",
       "    .dataframe tbody tr th {\n",
       "        vertical-align: top;\n",
       "    }\n",
       "\n",
       "    .dataframe thead th {\n",
       "        text-align: right;\n",
       "    }\n",
       "</style>\n",
       "<table border=\"1\" class=\"dataframe\">\n",
       "  <thead>\n",
       "    <tr style=\"text-align: right;\">\n",
       "      <th></th>\n",
       "      <th>Unnamed: 0</th>\n",
       "      <th>2020</th>\n",
       "    </tr>\n",
       "  </thead>\n",
       "  <tbody>\n",
       "    <tr>\n",
       "      <th>0</th>\n",
       "      <td>Total Population</td>\n",
       "      <td>3041</td>\n",
       "    </tr>\n",
       "    <tr>\n",
       "      <th>1</th>\n",
       "      <td>White alone</td>\n",
       "      <td>945</td>\n",
       "    </tr>\n",
       "    <tr>\n",
       "      <th>2</th>\n",
       "      <td>Black or African-American alone</td>\n",
       "      <td>1614</td>\n",
       "    </tr>\n",
       "    <tr>\n",
       "      <th>3</th>\n",
       "      <td>Asian-American alone</td>\n",
       "      <td>264</td>\n",
       "    </tr>\n",
       "    <tr>\n",
       "      <th>4</th>\n",
       "      <td>American Indian and Alaska Native alone</td>\n",
       "      <td>4</td>\n",
       "    </tr>\n",
       "    <tr>\n",
       "      <th>5</th>\n",
       "      <td>Native Hawaiian or Other Pacific Islander alone</td>\n",
       "      <td>2</td>\n",
       "    </tr>\n",
       "    <tr>\n",
       "      <th>6</th>\n",
       "      <td>Some Other Race alone</td>\n",
       "      <td>78</td>\n",
       "    </tr>\n",
       "    <tr>\n",
       "      <th>7</th>\n",
       "      <td>Two or More Races</td>\n",
       "      <td>134</td>\n",
       "    </tr>\n",
       "  </tbody>\n",
       "</table>\n",
       "</div>"
      ],
      "text/plain": [
       "                                        Unnamed: 0  2020\n",
       "0                                 Total Population  3041\n",
       "1                                      White alone   945\n",
       "2                  Black or African-American alone  1614\n",
       "3                             Asian-American alone   264\n",
       "4          American Indian and Alaska Native alone     4\n",
       "5  Native Hawaiian or Other Pacific Islander alone     2\n",
       "6                            Some Other Race alone    78\n",
       "7                                Two or More Races   134"
      ]
     },
     "execution_count": 173,
     "metadata": {},
     "output_type": "execute_result"
    }
   ],
   "source": [
    "pd.read_html(driver.page_source, flavor=\"html5lib\")[0]"
   ]
  },
  {
   "cell_type": "code",
   "execution_count": 200,
   "id": "78b01532",
   "metadata": {},
   "outputs": [
    {
     "name": "stdout",
     "output_type": "stream",
     "text": [
      "Searching for 60\n",
      "//*[@id=\"DataTables_Table_0\"]/tbody/tr[60]/td[1]/a\n",
      "Searching for 19\n",
      "//*[@id=\"DataTables_Table_0\"]/tbody/tr[19]/td[1]/a\n",
      "Searching for 28\n",
      "//*[@id=\"DataTables_Table_0\"]/tbody/tr[28]/td[1]/a\n"
     ]
    }
   ],
   "source": [
    "# Old North St. Louis = 60\n",
    "# Blue Grand Center = 19\n",
    "# Forest Park South East = 28\n",
    "\n",
    "neighborhoods = [60, 19, 28]\n",
    "\n",
    "for neighborhood in neighborhoods:\n",
    "    print(\"Searching for\", neighborhood)\n",
    "    print(f'//*[@id=\"DataTables_Table_0\"]/tbody/tr[{neighborhood}]/td[1]/a')"
   ]
  },
  {
   "cell_type": "markdown",
   "id": "5fbe7e01",
   "metadata": {},
   "source": [
    "### ADJACENT NEIGHBORHOODS"
   ]
  },
  {
   "cell_type": "code",
   "execution_count": null,
   "id": "9228165c",
   "metadata": {},
   "outputs": [],
   "source": []
  },
  {
   "cell_type": "markdown",
   "id": "19355896",
   "metadata": {},
   "source": [
    "## Walkability"
   ]
  },
  {
   "cell_type": "code",
   "execution_count": 178,
   "id": "8c64aebc",
   "metadata": {},
   "outputs": [],
   "source": [
    "table = doc.find(\"table\", class_=\"tablesorter\").find(\"tbody\")\n",
    "\n",
    "neighborhoods = []\n",
    "\n",
    "for row in table:\n",
    "    if row.find(\"td\") != -1:\n",
    "        rank = row.find(\"td\").text\n",
    "        name = row.find(\"td\", class_=\"name\").text\n",
    "        walk_score = row.find(\"td\", class_=\"walkscore\").text\n",
    "        transit_score = row.find(\"td\", class_=\"transitscore\").text\n",
    "        bike_score = row.find(\"td\", class_=\"bikescore\").text\n",
    "        population = row.find(\"td\", class_=\"population\").text\n",
    "        \n",
    "        neighborhood = {\n",
    "            \"rank\": rank,\n",
    "            \"name\": name,\n",
    "            \"walk\": walk_score,\n",
    "            \"transit_score\": transit_score,\n",
    "            \"bike_score\": bike_score,\n",
    "            \"population\": population\n",
    "        }\n",
    "        \n",
    "        neighborhoods.append(neighborhood)"
   ]
  },
  {
   "cell_type": "code",
   "execution_count": 179,
   "id": "f40b8657",
   "metadata": {},
   "outputs": [
    {
     "data": {
      "text/html": [
       "<div>\n",
       "<style scoped>\n",
       "    .dataframe tbody tr th:only-of-type {\n",
       "        vertical-align: middle;\n",
       "    }\n",
       "\n",
       "    .dataframe tbody tr th {\n",
       "        vertical-align: top;\n",
       "    }\n",
       "\n",
       "    .dataframe thead th {\n",
       "        text-align: right;\n",
       "    }\n",
       "</style>\n",
       "<table border=\"1\" class=\"dataframe\">\n",
       "  <thead>\n",
       "    <tr style=\"text-align: right;\">\n",
       "      <th></th>\n",
       "      <th>rank</th>\n",
       "      <th>name</th>\n",
       "      <th>walk</th>\n",
       "      <th>transit_score</th>\n",
       "      <th>bike_score</th>\n",
       "      <th>population</th>\n",
       "    </tr>\n",
       "  </thead>\n",
       "  <tbody>\n",
       "    <tr>\n",
       "      <th>0</th>\n",
       "      <td>1</td>\n",
       "      <td>Benton Park West</td>\n",
       "      <td>88</td>\n",
       "      <td>43</td>\n",
       "      <td>63</td>\n",
       "      <td>4,264</td>\n",
       "    </tr>\n",
       "    <tr>\n",
       "      <th>1</th>\n",
       "      <td>2</td>\n",
       "      <td>Downtown</td>\n",
       "      <td>87</td>\n",
       "      <td>64</td>\n",
       "      <td>61</td>\n",
       "      <td>7,670</td>\n",
       "    </tr>\n",
       "    <tr>\n",
       "      <th>2</th>\n",
       "      <td>3</td>\n",
       "      <td>Tower Grove East</td>\n",
       "      <td>85</td>\n",
       "      <td>43</td>\n",
       "      <td>76</td>\n",
       "      <td>5,880</td>\n",
       "    </tr>\n",
       "    <tr>\n",
       "      <th>3</th>\n",
       "      <td>4</td>\n",
       "      <td>Soulard</td>\n",
       "      <td>85</td>\n",
       "      <td>39</td>\n",
       "      <td>59</td>\n",
       "      <td>3,429</td>\n",
       "    </tr>\n",
       "    <tr>\n",
       "      <th>4</th>\n",
       "      <td>5</td>\n",
       "      <td>Gravois Park</td>\n",
       "      <td>84</td>\n",
       "      <td>44</td>\n",
       "      <td>57</td>\n",
       "      <td>5,170</td>\n",
       "    </tr>\n",
       "    <tr>\n",
       "      <th>5</th>\n",
       "      <td>6</td>\n",
       "      <td>Benton Park</td>\n",
       "      <td>84</td>\n",
       "      <td>42</td>\n",
       "      <td>57</td>\n",
       "      <td>3,436</td>\n",
       "    </tr>\n",
       "    <tr>\n",
       "      <th>6</th>\n",
       "      <td>7</td>\n",
       "      <td>Lafayette Square</td>\n",
       "      <td>82</td>\n",
       "      <td>51</td>\n",
       "      <td>63</td>\n",
       "      <td>2,056</td>\n",
       "    </tr>\n",
       "    <tr>\n",
       "      <th>7</th>\n",
       "      <td>8</td>\n",
       "      <td>Forest Park Southeast</td>\n",
       "      <td>82</td>\n",
       "      <td>55</td>\n",
       "      <td>78</td>\n",
       "      <td>2,911</td>\n",
       "    </tr>\n",
       "    <tr>\n",
       "      <th>8</th>\n",
       "      <td>9</td>\n",
       "      <td>Near Southside</td>\n",
       "      <td>81</td>\n",
       "      <td>61</td>\n",
       "      <td>59</td>\n",
       "      <td>2,360</td>\n",
       "    </tr>\n",
       "    <tr>\n",
       "      <th>9</th>\n",
       "      <td>10</td>\n",
       "      <td>Fox Park</td>\n",
       "      <td>80</td>\n",
       "      <td>40</td>\n",
       "      <td>62</td>\n",
       "      <td>2,600</td>\n",
       "    </tr>\n",
       "  </tbody>\n",
       "</table>\n",
       "</div>"
      ],
      "text/plain": [
       "  rank                   name walk transit_score bike_score population\n",
       "0    1       Benton Park West   88           43         63       4,264\n",
       "1    2               Downtown   87           64         61       7,670\n",
       "2    3       Tower Grove East   85           43         76       5,880\n",
       "3    4                Soulard   85           39         59       3,429\n",
       "4    5           Gravois Park   84           44         57       5,170\n",
       "5    6            Benton Park   84           42         57       3,436\n",
       "6    7       Lafayette Square   82           51         63       2,056\n",
       "7    8  Forest Park Southeast   82           55         78       2,911\n",
       "8    9         Near Southside   81           61         59       2,360\n",
       "9   10               Fox Park   80           40         62       2,600"
      ]
     },
     "execution_count": 179,
     "metadata": {},
     "output_type": "execute_result"
    }
   ],
   "source": [
    "df = pd.DataFrame(neighborhoods)\n",
    "df.head(10)"
   ]
  },
  {
   "cell_type": "code",
   "execution_count": 81,
   "id": "e58dae56",
   "metadata": {},
   "outputs": [],
   "source": [
    "df.to_csv(\"neighborhoods.csv\", index=False)"
   ]
  },
  {
   "cell_type": "markdown",
   "id": "b9aa529d",
   "metadata": {},
   "source": [
    "## St. Louis score"
   ]
  },
  {
   "cell_type": "code",
   "execution_count": null,
   "id": "3b780a0e",
   "metadata": {},
   "outputs": [],
   "source": [
    "stl_walk = 66\n",
    "stl_transit = 43\n",
    "stl_bike = 58"
   ]
  },
  {
   "cell_type": "code",
   "execution_count": 198,
   "id": "30cf4940",
   "metadata": {},
   "outputs": [
    {
     "data": {
      "text/plain": [
       "64.0"
      ]
     },
     "execution_count": 198,
     "metadata": {},
     "output_type": "execute_result"
    }
   ],
   "source": [
    "# MEDIAN WALK SCORE\n",
    "df[\"walk\"].median()"
   ]
  },
  {
   "cell_type": "code",
   "execution_count": 197,
   "id": "5594c769",
   "metadata": {},
   "outputs": [
    {
     "data": {
      "text/plain": [
       "64"
      ]
     },
     "execution_count": 197,
     "metadata": {},
     "output_type": "execute_result"
    }
   ],
   "source": [
    "# AVERAGE WALK SCORE\n",
    "round(df[\"walk\"].astype(int).mean())"
   ]
  },
  {
   "cell_type": "code",
   "execution_count": 138,
   "id": "e9797de0",
   "metadata": {},
   "outputs": [
    {
     "data": {
      "text/html": [
       "<div>\n",
       "<style scoped>\n",
       "    .dataframe tbody tr th:only-of-type {\n",
       "        vertical-align: middle;\n",
       "    }\n",
       "\n",
       "    .dataframe tbody tr th {\n",
       "        vertical-align: top;\n",
       "    }\n",
       "\n",
       "    .dataframe thead th {\n",
       "        text-align: right;\n",
       "    }\n",
       "</style>\n",
       "<table border=\"1\" class=\"dataframe\">\n",
       "  <thead>\n",
       "    <tr style=\"text-align: right;\">\n",
       "      <th></th>\n",
       "      <th>rank</th>\n",
       "      <th>name</th>\n",
       "      <th>walk</th>\n",
       "      <th>transit_score</th>\n",
       "      <th>bike_score</th>\n",
       "      <th>population</th>\n",
       "    </tr>\n",
       "  </thead>\n",
       "  <tbody>\n",
       "    <tr>\n",
       "      <th>7</th>\n",
       "      <td>8</td>\n",
       "      <td>Forest Park Southeast</td>\n",
       "      <td>82</td>\n",
       "      <td>55</td>\n",
       "      <td>78</td>\n",
       "      <td>2,911</td>\n",
       "    </tr>\n",
       "  </tbody>\n",
       "</table>\n",
       "</div>"
      ],
      "text/plain": [
       "  rank                   name walk transit_score bike_score population\n",
       "7    8  Forest Park Southeast   82           55         78       2,911"
      ]
     },
     "execution_count": 138,
     "metadata": {},
     "output_type": "execute_result"
    }
   ],
   "source": [
    "# MISSING\n",
    "# Botanical Heights\n",
    "# Kings Oak\n",
    "\n",
    "# expanded_forest_park_southeast = df[(df['count'] == '2') & (df['price'] == '100')]\n",
    "\n",
    "df[df[\"name\"] == \"Forest Park Southeast\"]"
   ]
  },
  {
   "cell_type": "code",
   "execution_count": 128,
   "id": "0de648fe",
   "metadata": {},
   "outputs": [
    {
     "data": {
      "text/html": [
       "<div>\n",
       "<style scoped>\n",
       "    .dataframe tbody tr th:only-of-type {\n",
       "        vertical-align: middle;\n",
       "    }\n",
       "\n",
       "    .dataframe tbody tr th {\n",
       "        vertical-align: top;\n",
       "    }\n",
       "\n",
       "    .dataframe thead th {\n",
       "        text-align: right;\n",
       "    }\n",
       "</style>\n",
       "<table border=\"1\" class=\"dataframe\">\n",
       "  <thead>\n",
       "    <tr style=\"text-align: right;\">\n",
       "      <th></th>\n",
       "      <th>rank</th>\n",
       "      <th>name</th>\n",
       "      <th>walk</th>\n",
       "      <th>transit_score</th>\n",
       "      <th>bike_score</th>\n",
       "      <th>population</th>\n",
       "    </tr>\n",
       "  </thead>\n",
       "  <tbody>\n",
       "    <tr>\n",
       "      <th>36</th>\n",
       "      <td>37</td>\n",
       "      <td>Old North St. Louis</td>\n",
       "      <td>64</td>\n",
       "      <td>43</td>\n",
       "      <td>65</td>\n",
       "      <td>1,917</td>\n",
       "    </tr>\n",
       "  </tbody>\n",
       "</table>\n",
       "</div>"
      ],
      "text/plain": [
       "   rank                 name walk transit_score bike_score population\n",
       "36   37  Old North St. Louis   64           43         65       1,917"
      ]
     },
     "execution_count": 128,
     "metadata": {},
     "output_type": "execute_result"
    }
   ],
   "source": [
    "df[df[\"name\"] == \"Old North St. Louis\"]"
   ]
  },
  {
   "cell_type": "code",
   "execution_count": 199,
   "id": "e111faa2",
   "metadata": {},
   "outputs": [],
   "source": [
    "# dict = {\n",
    "#     \"\": [],\n",
    "#     \"\": [],\n",
    "#     \"\": []\n",
    "# }\n",
    "# df = pd.DataFrame(dict)\n",
    "# df.loc[len(df.index)] = ['Amy', 89, 93] \n",
    "\n",
    "# # dict = {df[df[\"name\"] == \"Near North Riverfront\"]}\n",
    "# # df = pd.DataFrame(dict)\n",
    "\n",
    "# dict.append(df[df[\"name\"] == \"Near North Riverfront\"])\n",
    "# df\n",
    "\n",
    "\n",
    "# [\"Hyde Park\", \"St. Louis Place\", \"Carr Square\", \"Columbus Square\", \"Near North Riverfront\"]"
   ]
  },
  {
   "cell_type": "code",
   "execution_count": 129,
   "id": "34d40e06",
   "metadata": {},
   "outputs": [
    {
     "data": {
      "text/html": [
       "<div>\n",
       "<style scoped>\n",
       "    .dataframe tbody tr th:only-of-type {\n",
       "        vertical-align: middle;\n",
       "    }\n",
       "\n",
       "    .dataframe tbody tr th {\n",
       "        vertical-align: top;\n",
       "    }\n",
       "\n",
       "    .dataframe thead th {\n",
       "        text-align: right;\n",
       "    }\n",
       "</style>\n",
       "<table border=\"1\" class=\"dataframe\">\n",
       "  <thead>\n",
       "    <tr style=\"text-align: right;\">\n",
       "      <th></th>\n",
       "      <th>rank</th>\n",
       "      <th>name</th>\n",
       "      <th>walk</th>\n",
       "      <th>transit_score</th>\n",
       "      <th>bike_score</th>\n",
       "      <th>population</th>\n",
       "    </tr>\n",
       "  </thead>\n",
       "  <tbody>\n",
       "    <tr>\n",
       "      <th>24</th>\n",
       "      <td>25</td>\n",
       "      <td>Grand Center</td>\n",
       "      <td>70</td>\n",
       "      <td>51</td>\n",
       "      <td>66</td>\n",
       "      <td>3,492</td>\n",
       "    </tr>\n",
       "  </tbody>\n",
       "</table>\n",
       "</div>"
      ],
      "text/plain": [
       "   rank          name walk transit_score bike_score population\n",
       "24   25  Grand Center   70           51         66       3,492"
      ]
     },
     "execution_count": 129,
     "metadata": {},
     "output_type": "execute_result"
    }
   ],
   "source": [
    "df[df[\"name\"] == \"Grand Center\"]"
   ]
  },
  {
   "cell_type": "markdown",
   "id": "152bd385",
   "metadata": {},
   "source": [
    "## Forest Park Southeast"
   ]
  },
  {
   "cell_type": "code",
   "execution_count": 160,
   "id": "fadd8e51",
   "metadata": {},
   "outputs": [],
   "source": [
    "# # ADJACENT NEIGHBORHOODS\n",
    "# forest_park_southeast = [\"Central West End\", \"Midtown\", \"Botanical Heights\", \"Southwest Garden\", \"The Hill\", \"Kings Oak\"]\n",
    "\n",
    "# adj_neigh_forest_park_southeast = []\n",
    "\n",
    "# for neighborhood in df[\"name\"]:\n",
    "#     for item in filtered_list:\n",
    "#         if item == neighborhood:\n",
    "#             print(df[df[\"name\"] == neighborhood])"
   ]
  },
  {
   "cell_type": "markdown",
   "id": "ab78654b",
   "metadata": {},
   "source": [
    "## Convenant Blu Grand Center"
   ]
  },
  {
   "cell_type": "code",
   "execution_count": null,
   "id": "87ac9464",
   "metadata": {},
   "outputs": [],
   "source": [
    "convenant_blu = [\"Central West End\", \"Midtown\", \"Jeff Vanderlou\", \"Vandeveter\", \"Greater Ville\"]"
   ]
  },
  {
   "cell_type": "markdown",
   "id": "52859524",
   "metadata": {},
   "source": [
    "## Old North St. Louis"
   ]
  },
  {
   "cell_type": "code",
   "execution_count": null,
   "id": "d5682ba4",
   "metadata": {},
   "outputs": [],
   "source": [
    "old_north_st_louis = [\"Hyde Park\", \"St. Louis Place\", \"Carr Square\", \"Columbus Square\", \"Near North Riverfront\"]"
   ]
  },
  {
   "cell_type": "code",
   "execution_count": null,
   "id": "4e0c469d",
   "metadata": {},
   "outputs": [],
   "source": [
    "# Walkability\n",
    "# ST. LOUIS FIPS = 29510\n",
    "# https://www.stlouis-mo.gov/data/datasets/dataset.cfm?id=85"
   ]
  },
  {
   "cell_type": "code",
   "execution_count": null,
   "id": "4fad378d",
   "metadata": {},
   "outputs": [],
   "source": [
    "# PROPERTY VALUE\n",
    "# https://dynamic.stlouis-mo.gov/citydata/newdesign/statsselector.cfm?type=data&geo=neigh\n",
    "# https://www.stlouisrealestatesearch.com/st-louis-current-home-prices/"
   ]
  },
  {
   "cell_type": "code",
   "execution_count": null,
   "id": "71489b22",
   "metadata": {},
   "outputs": [],
   "source": [
    "# CRIME"
   ]
  },
  {
   "cell_type": "code",
   "execution_count": 115,
   "id": "b8023f07",
   "metadata": {},
   "outputs": [
    {
     "data": {
      "text/html": [
       "<div>\n",
       "<style scoped>\n",
       "    .dataframe tbody tr th:only-of-type {\n",
       "        vertical-align: middle;\n",
       "    }\n",
       "\n",
       "    .dataframe tbody tr th {\n",
       "        vertical-align: top;\n",
       "    }\n",
       "\n",
       "    .dataframe thead th {\n",
       "        text-align: right;\n",
       "    }\n",
       "</style>\n",
       "<table border=\"1\" class=\"dataframe\">\n",
       "  <thead>\n",
       "    <tr style=\"text-align: right;\">\n",
       "      <th></th>\n",
       "      <th>NHD_NUM</th>\n",
       "      <th>NHD_NAME</th>\n",
       "      <th>ANGLE</th>\n",
       "      <th>NHD_NUMTXT</th>\n",
       "      <th>NHD_NUM_ST</th>\n",
       "    </tr>\n",
       "  </thead>\n",
       "  <tbody>\n",
       "    <tr>\n",
       "      <th>0</th>\n",
       "      <td>43</td>\n",
       "      <td>Franz Park</td>\n",
       "      <td>0.0</td>\n",
       "      <td>43 Franz Park</td>\n",
       "      <td>43</td>\n",
       "    </tr>\n",
       "    <tr>\n",
       "      <th>1</th>\n",
       "      <td>29</td>\n",
       "      <td>Tiffany</td>\n",
       "      <td>0.0</td>\n",
       "      <td>29 Tiffany</td>\n",
       "      <td>29</td>\n",
       "    </tr>\n",
       "    <tr>\n",
       "      <th>2</th>\n",
       "      <td>28</td>\n",
       "      <td>Botanical Heights</td>\n",
       "      <td>0.0</td>\n",
       "      <td>28 Botanical Heights</td>\n",
       "      <td>28</td>\n",
       "    </tr>\n",
       "    <tr>\n",
       "      <th>3</th>\n",
       "      <td>40</td>\n",
       "      <td>Kings Oak</td>\n",
       "      <td>0.0</td>\n",
       "      <td>40 Kings Oak</td>\n",
       "      <td>40</td>\n",
       "    </tr>\n",
       "    <tr>\n",
       "      <th>4</th>\n",
       "      <td>41</td>\n",
       "      <td>Cheltenham</td>\n",
       "      <td>0.0</td>\n",
       "      <td>41 Cheltenham</td>\n",
       "      <td>41</td>\n",
       "    </tr>\n",
       "    <tr>\n",
       "      <th>...</th>\n",
       "      <td>...</td>\n",
       "      <td>...</td>\n",
       "      <td>...</td>\n",
       "      <td>...</td>\n",
       "      <td>...</td>\n",
       "    </tr>\n",
       "    <tr>\n",
       "      <th>83</th>\n",
       "      <td>61</td>\n",
       "      <td>Old North St. Louis</td>\n",
       "      <td>0.0</td>\n",
       "      <td>63 Old North St. Louis</td>\n",
       "      <td>63</td>\n",
       "    </tr>\n",
       "    <tr>\n",
       "      <th>84</th>\n",
       "      <td>61</td>\n",
       "      <td>Carr Square</td>\n",
       "      <td>0.0</td>\n",
       "      <td>61 Carr Square</td>\n",
       "      <td>61</td>\n",
       "    </tr>\n",
       "    <tr>\n",
       "      <th>85</th>\n",
       "      <td>61</td>\n",
       "      <td>Hyde Park</td>\n",
       "      <td>0.0</td>\n",
       "      <td>65 Hyde Park</td>\n",
       "      <td>65</td>\n",
       "    </tr>\n",
       "    <tr>\n",
       "      <th>86</th>\n",
       "      <td>61</td>\n",
       "      <td>St. Louis Place</td>\n",
       "      <td>0.0</td>\n",
       "      <td>60 St. Louis Place</td>\n",
       "      <td>60</td>\n",
       "    </tr>\n",
       "    <tr>\n",
       "      <th>87</th>\n",
       "      <td>61</td>\n",
       "      <td>Downtown West</td>\n",
       "      <td>0.0</td>\n",
       "      <td>36 Downtown West</td>\n",
       "      <td>36</td>\n",
       "    </tr>\n",
       "  </tbody>\n",
       "</table>\n",
       "<p>88 rows × 5 columns</p>\n",
       "</div>"
      ],
      "text/plain": [
       "    NHD_NUM             NHD_NAME  ANGLE              NHD_NUMTXT  NHD_NUM_ST\n",
       "0        43           Franz Park    0.0           43 Franz Park          43\n",
       "1        29              Tiffany    0.0              29 Tiffany          29\n",
       "2        28    Botanical Heights    0.0    28 Botanical Heights          28\n",
       "3        40            Kings Oak    0.0            40 Kings Oak          40\n",
       "4        41           Cheltenham    0.0           41 Cheltenham          41\n",
       "..      ...                  ...    ...                     ...         ...\n",
       "83       61  Old North St. Louis    0.0  63 Old North St. Louis          63\n",
       "84       61          Carr Square    0.0          61 Carr Square          61\n",
       "85       61            Hyde Park    0.0            65 Hyde Park          65\n",
       "86       61      St. Louis Place    0.0      60 St. Louis Place          60\n",
       "87       61        Downtown West    0.0        36 Downtown West          36\n",
       "\n",
       "[88 rows x 5 columns]"
      ]
     },
     "execution_count": 115,
     "metadata": {},
     "output_type": "execute_result"
    }
   ],
   "source": [
    "df = pd.read_csv(\"neighborhoods_list.csv\")\n",
    "df"
   ]
  },
  {
   "cell_type": "code",
   "execution_count": 116,
   "id": "1dae8f95",
   "metadata": {},
   "outputs": [],
   "source": [
    "df = df.rename(columns={\n",
    "    \"NHD_NAME\": \"name\",\n",
    "    \"NHD_NUM_ST\": \"num\"\n",
    "})\n",
    "\n",
    "df = df.drop(\"NHD_NUM\", axis=1)\n",
    "df = df.drop(\"ANGLE\", axis=1)\n",
    "df = df.drop(\"NHD_NUMTXT\", axis=1)"
   ]
  },
  {
   "cell_type": "code",
   "execution_count": 120,
   "id": "d1f0c49d",
   "metadata": {},
   "outputs": [
    {
     "data": {
      "text/html": [
       "<div>\n",
       "<style scoped>\n",
       "    .dataframe tbody tr th:only-of-type {\n",
       "        vertical-align: middle;\n",
       "    }\n",
       "\n",
       "    .dataframe tbody tr th {\n",
       "        vertical-align: top;\n",
       "    }\n",
       "\n",
       "    .dataframe thead th {\n",
       "        text-align: right;\n",
       "    }\n",
       "</style>\n",
       "<table border=\"1\" class=\"dataframe\">\n",
       "  <thead>\n",
       "    <tr style=\"text-align: right;\">\n",
       "      <th></th>\n",
       "      <th>name</th>\n",
       "      <th>num</th>\n",
       "    </tr>\n",
       "  </thead>\n",
       "  <tbody>\n",
       "    <tr>\n",
       "      <th>18</th>\n",
       "      <td>Academy</td>\n",
       "      <td>51</td>\n",
       "    </tr>\n",
       "    <tr>\n",
       "      <th>75</th>\n",
       "      <td>Baden</td>\n",
       "      <td>74</td>\n",
       "    </tr>\n",
       "    <tr>\n",
       "      <th>71</th>\n",
       "      <td>Bellefontaine/Calvary Cemetery</td>\n",
       "      <td>86</td>\n",
       "    </tr>\n",
       "    <tr>\n",
       "      <th>44</th>\n",
       "      <td>Benton Park</td>\n",
       "      <td>22</td>\n",
       "    </tr>\n",
       "    <tr>\n",
       "      <th>41</th>\n",
       "      <td>Benton Park West</td>\n",
       "      <td>30</td>\n",
       "    </tr>\n",
       "    <tr>\n",
       "      <th>...</th>\n",
       "      <td>...</td>\n",
       "      <td>...</td>\n",
       "    </tr>\n",
       "    <tr>\n",
       "      <th>72</th>\n",
       "      <td>Walnut Park West</td>\n",
       "      <td>76</td>\n",
       "    </tr>\n",
       "    <tr>\n",
       "      <th>67</th>\n",
       "      <td>Wells Goodfellow</td>\n",
       "      <td>50</td>\n",
       "    </tr>\n",
       "    <tr>\n",
       "      <th>20</th>\n",
       "      <td>West End</td>\n",
       "      <td>48</td>\n",
       "    </tr>\n",
       "    <tr>\n",
       "      <th>34</th>\n",
       "      <td>Willmore Park</td>\n",
       "      <td>88</td>\n",
       "    </tr>\n",
       "    <tr>\n",
       "      <th>10</th>\n",
       "      <td>Wydown Skinker</td>\n",
       "      <td>45</td>\n",
       "    </tr>\n",
       "  </tbody>\n",
       "</table>\n",
       "<p>88 rows × 2 columns</p>\n",
       "</div>"
      ],
      "text/plain": [
       "                              name  num\n",
       "18                         Academy   51\n",
       "75                           Baden   74\n",
       "71  Bellefontaine/Calvary Cemetery   86\n",
       "44                     Benton Park   22\n",
       "41                Benton Park West   30\n",
       "..                             ...  ...\n",
       "72                Walnut Park West   76\n",
       "67                Wells Goodfellow   50\n",
       "20                        West End   48\n",
       "34                   Willmore Park   88\n",
       "10                  Wydown Skinker   45\n",
       "\n",
       "[88 rows x 2 columns]"
      ]
     },
     "execution_count": 120,
     "metadata": {},
     "output_type": "execute_result"
    }
   ],
   "source": [
    "df.sort_values(\"name\", ascending=True)"
   ]
  },
  {
   "cell_type": "code",
   "execution_count": null,
   "id": "d25951b9",
   "metadata": {},
   "outputs": [],
   "source": [
    "# df_n = pd.read_csv(\"zipcodes-neighborhoods.csv\", na_values=\"Unknown\")\n",
    "# merged = df.merge(df_n, left_on=\"Owner Zip Code\", right_on=\"zip\")"
   ]
  },
  {
   "cell_type": "markdown",
   "id": "0c9696b4",
   "metadata": {},
   "source": [
    "## Crime"
   ]
  },
  {
   "cell_type": "code",
   "execution_count": 125,
   "id": "aa4ac092",
   "metadata": {},
   "outputs": [],
   "source": [
    "response = requests.get(\"https://graphics.stltoday.com/apps/crime/st-louis-city/\")\n",
    "doc = BeautifulSoup(response.text)\n",
    "\n",
    "neighborhoods = doc.find(\"ul\").find_all(\"li\")\n",
    "base_url = \"https://graphics.stltoday.com\"\n",
    "urls = []\n",
    "\n",
    "for neighborhood in neighborhoods[4:]:\n",
    "    url = base_url + neighborhood.a.get('href')\n",
    "    urls.append(url)\n",
    "\n",
    "# print(urls)"
   ]
  },
  {
   "cell_type": "code",
   "execution_count": 142,
   "id": "62d1d7a2",
   "metadata": {},
   "outputs": [
    {
     "data": {
      "text/plain": [
       "'higher than 43 neighborhoods (out of 77)'"
      ]
     },
     "execution_count": 142,
     "metadata": {},
     "output_type": "execute_result"
    }
   ],
   "source": [
    "# response = requests.get(\"https://graphics.stltoday.com/apps/crime/st-louis-city/academy/\")\n",
    "# doc = BeautifulSoup(response.text)\n",
    "\n",
    "# for url in urls:\n",
    "#     print(url)\n",
    "\n",
    "neighborhoods = []\n",
    "\n",
    "driver.get(url)\n",
    "\n",
    "neighborhood = driver.find_elements(By.TAG_NAME, \"h1\")[3].text\n",
    "change = driver.find_elements(By.CLASS_NAME, \"crimechange\")[0].text\n",
    "per_capita_rate = driver.find_elements(By.CLASS_NAME, \"percapitarate\")[0].text\n",
    "per_capita_rank = driver.find_elements(By.CLASS_NAME, \"percapitarank\")[0].text\n",
    "\n",
    "info = {\n",
    "   \"neighborhood\": neighborhood,\n",
    "    \"change\": change,\n",
    "    \"per_capita_rate\": per_capita_rate,\n",
    "    \"per_capita_rank\": per_capita_rank\n",
    "}\n",
    "\n",
    "\n",
    "# forest_park_southeast = [\"Central West End\", \"Midtown\", \"Botanical Heights\", \"Southwest Garden\", \"The Hill\", \"Kings Oak\"]\n",
    "# convenant_blu = [\"Central West End\", \"Midtown\", \"Jeff Vanderlou\", \"Vandeveter\", \"Greater Ville\"]\n",
    "# old_north_st_louis = [\"Hyde Park\", \"St. Louis Place\", \"Carr Square\", \"Columbus Square\", \"Near North Riverfront\"]\n",
    "\n",
    "\n",
    "# neighborhoods = \"\"\n",
    "\n",
    "\n",
    "# for neighborhood in neighborhoods:\n",
    "#     print(neighborhood)"
   ]
  },
  {
   "cell_type": "code",
   "execution_count": null,
   "id": "b2f7362a",
   "metadata": {},
   "outputs": [],
   "source": []
  }
 ],
 "metadata": {
  "kernelspec": {
   "display_name": "Python 3 (ipykernel)",
   "language": "python",
   "name": "python3"
  },
  "language_info": {
   "codemirror_mode": {
    "name": "ipython",
    "version": 3
   },
   "file_extension": ".py",
   "mimetype": "text/x-python",
   "name": "python",
   "nbconvert_exporter": "python",
   "pygments_lexer": "ipython3",
   "version": "3.10.3"
  }
 },
 "nbformat": 4,
 "nbformat_minor": 5
}
